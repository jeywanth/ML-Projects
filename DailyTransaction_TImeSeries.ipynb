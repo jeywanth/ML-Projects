{
 "cells": [
  {
   "cell_type": "markdown",
   "metadata": {},
   "source": [
    "## Dataset Information"
   ]
  },
  {
   "cell_type": "markdown",
   "metadata": {},
   "source": [
    "This dataset is collected from HDFC bank customer.It contains a single customer's one year complete transaction. Starting from 2019 april to 2020 march.It includes total debit and credit transaction made by the customer throughout the year.With help of this dataset we do deep level analysis of user transactions.And check whether dataset follows timeseries or not."
   ]
  },
  {
   "cell_type": "markdown",
   "metadata": {},
   "source": [
    "## Importing required librareis"
   ]
  },
  {
   "cell_type": "code",
   "execution_count": 1,
   "metadata": {},
   "outputs": [],
   "source": [
    "import numpy as np\n",
    "import pandas as pd\n",
    "import matplotlib.pyplot as plt\n",
    "%matplotlib inline\n",
    "import seaborn as sns\n",
    "import calendar"
   ]
  },
  {
   "cell_type": "markdown",
   "metadata": {},
   "source": [
    "### Loading the datasets"
   ]
  },
  {
   "cell_type": "code",
   "execution_count": 2,
   "metadata": {},
   "outputs": [],
   "source": [
    "data1=pd.read_csv('april2019-july2019.csv')\n",
    "data2=pd.read_csv('aug2019-nov2019.csv')\n",
    "data3=pd.read_csv('dec2019-march2020.csv')"
   ]
  },
  {
   "cell_type": "code",
   "execution_count": 3,
   "metadata": {},
   "outputs": [
    {
     "data": {
      "text/html": [
       "<div>\n",
       "<style scoped>\n",
       "    .dataframe tbody tr th:only-of-type {\n",
       "        vertical-align: middle;\n",
       "    }\n",
       "\n",
       "    .dataframe tbody tr th {\n",
       "        vertical-align: top;\n",
       "    }\n",
       "\n",
       "    .dataframe thead th {\n",
       "        text-align: right;\n",
       "    }\n",
       "</style>\n",
       "<table border=\"1\" class=\"dataframe\">\n",
       "  <thead>\n",
       "    <tr style=\"text-align: right;\">\n",
       "      <th></th>\n",
       "      <th>Date</th>\n",
       "      <th>Narration</th>\n",
       "      <th>Chq./Ref.No.</th>\n",
       "      <th>Value Dt</th>\n",
       "      <th>Withdrawal Amt.</th>\n",
       "      <th>Deposit Amt.</th>\n",
       "      <th>Closing Balance</th>\n",
       "    </tr>\n",
       "  </thead>\n",
       "  <tbody>\n",
       "    <tr>\n",
       "      <th>0</th>\n",
       "      <td>02-04-2019</td>\n",
       "      <td>UPI-6111974179-SABARIKTS2@OKHDFCBANK-PAY-90920...</td>\n",
       "      <td>90929027268</td>\n",
       "      <td>02-04-2019</td>\n",
       "      <td>NaN</td>\n",
       "      <td>900.00</td>\n",
       "      <td>20369.03</td>\n",
       "    </tr>\n",
       "    <tr>\n",
       "      <th>1</th>\n",
       "      <td>02-04-2019</td>\n",
       "      <td>POS 416021XXXXXX3832 SAPPDA VANGA POS DEBIT</td>\n",
       "      <td>7781</td>\n",
       "      <td>02-04-2019</td>\n",
       "      <td>36.0</td>\n",
       "      <td>NaN</td>\n",
       "      <td>20333.03</td>\n",
       "    </tr>\n",
       "    <tr>\n",
       "      <th>2</th>\n",
       "      <td>02-04-2019</td>\n",
       "      <td>POS 416021XXXXXX3832 KANNAN CATERING POS DEBIT</td>\n",
       "      <td>61552</td>\n",
       "      <td>02-04-2019</td>\n",
       "      <td>15.0</td>\n",
       "      <td>NaN</td>\n",
       "      <td>20318.03</td>\n",
       "    </tr>\n",
       "    <tr>\n",
       "      <th>3</th>\n",
       "      <td>02-04-2019</td>\n",
       "      <td>NWD-416021XXXXXX3832-IOBD5356-CHENNAI</td>\n",
       "      <td>9.09221E+11</td>\n",
       "      <td>02-04-2019</td>\n",
       "      <td>500.0</td>\n",
       "      <td>NaN</td>\n",
       "      <td>19818.03</td>\n",
       "    </tr>\n",
       "    <tr>\n",
       "      <th>4</th>\n",
       "      <td>03-04-2019</td>\n",
       "      <td>REV POS 416021******3832 0310 DISCOUNT O</td>\n",
       "      <td>0</td>\n",
       "      <td>03-04-2019</td>\n",
       "      <td>NaN</td>\n",
       "      <td>0.75</td>\n",
       "      <td>19818.78</td>\n",
       "    </tr>\n",
       "  </tbody>\n",
       "</table>\n",
       "</div>"
      ],
      "text/plain": [
       "         Date                                          Narration Chq./Ref.No.  \\\n",
       "0  02-04-2019  UPI-6111974179-SABARIKTS2@OKHDFCBANK-PAY-90920...  90929027268   \n",
       "1  02-04-2019        POS 416021XXXXXX3832 SAPPDA VANGA POS DEBIT         7781   \n",
       "2  02-04-2019     POS 416021XXXXXX3832 KANNAN CATERING POS DEBIT        61552   \n",
       "3  02-04-2019              NWD-416021XXXXXX3832-IOBD5356-CHENNAI  9.09221E+11   \n",
       "4  03-04-2019           REV POS 416021******3832 0310 DISCOUNT O            0   \n",
       "\n",
       "     Value Dt  Withdrawal Amt.  Deposit Amt.  Closing Balance  \n",
       "0  02-04-2019              NaN        900.00         20369.03  \n",
       "1  02-04-2019             36.0           NaN         20333.03  \n",
       "2  02-04-2019             15.0           NaN         20318.03  \n",
       "3  02-04-2019            500.0           NaN         19818.03  \n",
       "4  03-04-2019              NaN          0.75         19818.78  "
      ]
     },
     "execution_count": 3,
     "metadata": {},
     "output_type": "execute_result"
    }
   ],
   "source": [
    "### printing top 5 samples\n",
    "data1.head()"
   ]
  },
  {
   "cell_type": "code",
   "execution_count": 4,
   "metadata": {},
   "outputs": [
    {
     "data": {
      "text/html": [
       "<div>\n",
       "<style scoped>\n",
       "    .dataframe tbody tr th:only-of-type {\n",
       "        vertical-align: middle;\n",
       "    }\n",
       "\n",
       "    .dataframe tbody tr th {\n",
       "        vertical-align: top;\n",
       "    }\n",
       "\n",
       "    .dataframe thead th {\n",
       "        text-align: right;\n",
       "    }\n",
       "</style>\n",
       "<table border=\"1\" class=\"dataframe\">\n",
       "  <thead>\n",
       "    <tr style=\"text-align: right;\">\n",
       "      <th></th>\n",
       "      <th>Date</th>\n",
       "      <th>Narration</th>\n",
       "      <th>Chq./Ref.No.</th>\n",
       "      <th>Value Dt</th>\n",
       "      <th>Withdrawal Amt.</th>\n",
       "      <th>Deposit Amt.</th>\n",
       "      <th>Closing Balance</th>\n",
       "    </tr>\n",
       "  </thead>\n",
       "  <tbody>\n",
       "    <tr>\n",
       "      <th>0</th>\n",
       "      <td>01-08-2019</td>\n",
       "      <td>POS 416021XXXXXX0914 SAPPDA POS DEBIT</td>\n",
       "      <td>42678</td>\n",
       "      <td>01-08-2019</td>\n",
       "      <td>41.0</td>\n",
       "      <td>NaN</td>\n",
       "      <td>24731.88</td>\n",
       "    </tr>\n",
       "    <tr>\n",
       "      <th>1</th>\n",
       "      <td>01-08-2019</td>\n",
       "      <td>UPI-AJIN SABABATHY  KAVI-9994155506@YBL-UTIB00...</td>\n",
       "      <td>9.21317E+11</td>\n",
       "      <td>01-08-2019</td>\n",
       "      <td>1000.0</td>\n",
       "      <td>NaN</td>\n",
       "      <td>23731.88</td>\n",
       "    </tr>\n",
       "    <tr>\n",
       "      <th>2</th>\n",
       "      <td>01-08-2019</td>\n",
       "      <td>POS 416021XXXXXX0914 SAPPDA POS DEBIT</td>\n",
       "      <td>43026</td>\n",
       "      <td>01-08-2019</td>\n",
       "      <td>36.0</td>\n",
       "      <td>NaN</td>\n",
       "      <td>23695.88</td>\n",
       "    </tr>\n",
       "    <tr>\n",
       "      <th>3</th>\n",
       "      <td>01-08-2019</td>\n",
       "      <td>UPI-ANANDHAN E-ANANDH130596@OKICICI-ICIC000322...</td>\n",
       "      <td>9.21321E+11</td>\n",
       "      <td>01-08-2019</td>\n",
       "      <td>1000.0</td>\n",
       "      <td>NaN</td>\n",
       "      <td>22695.88</td>\n",
       "    </tr>\n",
       "    <tr>\n",
       "      <th>4</th>\n",
       "      <td>02-08-2019</td>\n",
       "      <td>POS 416021XXXXXX0914 SAPPDA POS DEBIT</td>\n",
       "      <td>43515</td>\n",
       "      <td>02-08-2019</td>\n",
       "      <td>36.0</td>\n",
       "      <td>NaN</td>\n",
       "      <td>22659.88</td>\n",
       "    </tr>\n",
       "  </tbody>\n",
       "</table>\n",
       "</div>"
      ],
      "text/plain": [
       "         Date                                          Narration Chq./Ref.No.  \\\n",
       "0  01-08-2019              POS 416021XXXXXX0914 SAPPDA POS DEBIT        42678   \n",
       "1  01-08-2019  UPI-AJIN SABABATHY  KAVI-9994155506@YBL-UTIB00...  9.21317E+11   \n",
       "2  01-08-2019              POS 416021XXXXXX0914 SAPPDA POS DEBIT        43026   \n",
       "3  01-08-2019  UPI-ANANDHAN E-ANANDH130596@OKICICI-ICIC000322...  9.21321E+11   \n",
       "4  02-08-2019              POS 416021XXXXXX0914 SAPPDA POS DEBIT        43515   \n",
       "\n",
       "     Value Dt  Withdrawal Amt.  Deposit Amt.  Closing Balance  \n",
       "0  01-08-2019             41.0           NaN         24731.88  \n",
       "1  01-08-2019           1000.0           NaN         23731.88  \n",
       "2  01-08-2019             36.0           NaN         23695.88  \n",
       "3  01-08-2019           1000.0           NaN         22695.88  \n",
       "4  02-08-2019             36.0           NaN         22659.88  "
      ]
     },
     "execution_count": 4,
     "metadata": {},
     "output_type": "execute_result"
    }
   ],
   "source": [
    "### printing top 5 samples\n",
    "data2.head()"
   ]
  },
  {
   "cell_type": "code",
   "execution_count": 5,
   "metadata": {},
   "outputs": [
    {
     "data": {
      "text/html": [
       "<div>\n",
       "<style scoped>\n",
       "    .dataframe tbody tr th:only-of-type {\n",
       "        vertical-align: middle;\n",
       "    }\n",
       "\n",
       "    .dataframe tbody tr th {\n",
       "        vertical-align: top;\n",
       "    }\n",
       "\n",
       "    .dataframe thead th {\n",
       "        text-align: right;\n",
       "    }\n",
       "</style>\n",
       "<table border=\"1\" class=\"dataframe\">\n",
       "  <thead>\n",
       "    <tr style=\"text-align: right;\">\n",
       "      <th></th>\n",
       "      <th>Date</th>\n",
       "      <th>Narration</th>\n",
       "      <th>Chq./Ref.No.</th>\n",
       "      <th>Value Dt</th>\n",
       "      <th>Withdrawal Amt.</th>\n",
       "      <th>Deposit Amt.</th>\n",
       "      <th>Closing Balance</th>\n",
       "    </tr>\n",
       "  </thead>\n",
       "  <tbody>\n",
       "    <tr>\n",
       "      <th>0</th>\n",
       "      <td>01-12-2019</td>\n",
       "      <td>UPI-KADAR BASHA A-Q87974607@YBL-PUNB0792300-93...</td>\n",
       "      <td>9.3351E+11</td>\n",
       "      <td>01-12-2019</td>\n",
       "      <td>625.0</td>\n",
       "      <td>NaN</td>\n",
       "      <td>23209.69</td>\n",
       "    </tr>\n",
       "    <tr>\n",
       "      <th>1</th>\n",
       "      <td>01-12-2019</td>\n",
       "      <td>UPI-MUTHUAKSHMI VEGETABL-Q88513705@YBL-TMBL000...</td>\n",
       "      <td>9.3351E+11</td>\n",
       "      <td>01-12-2019</td>\n",
       "      <td>385.0</td>\n",
       "      <td>NaN</td>\n",
       "      <td>22824.69</td>\n",
       "    </tr>\n",
       "    <tr>\n",
       "      <th>2</th>\n",
       "      <td>01-12-2019</td>\n",
       "      <td>UPI-SABARITHULASIRAM G-7845433075@YBL-HDFC0001...</td>\n",
       "      <td>9.3352E+11</td>\n",
       "      <td>01-12-2019</td>\n",
       "      <td>274.0</td>\n",
       "      <td>NaN</td>\n",
       "      <td>22550.69</td>\n",
       "    </tr>\n",
       "    <tr>\n",
       "      <th>3</th>\n",
       "      <td>02-12-2019</td>\n",
       "      <td>UPI-GIREESH VARMAA E R-GIREESHVARMAA-1@OKHDFCB...</td>\n",
       "      <td>93360237360</td>\n",
       "      <td>02-12-2019</td>\n",
       "      <td>500.0</td>\n",
       "      <td>NaN</td>\n",
       "      <td>22050.69</td>\n",
       "    </tr>\n",
       "    <tr>\n",
       "      <th>4</th>\n",
       "      <td>02-12-2019</td>\n",
       "      <td>UPI-SUDHEESH V-Q92737643@YBL-CNRB0000000-93363...</td>\n",
       "      <td>93369113204</td>\n",
       "      <td>02-12-2019</td>\n",
       "      <td>10.0</td>\n",
       "      <td>NaN</td>\n",
       "      <td>22040.69</td>\n",
       "    </tr>\n",
       "  </tbody>\n",
       "</table>\n",
       "</div>"
      ],
      "text/plain": [
       "         Date                                          Narration Chq./Ref.No.  \\\n",
       "0  01-12-2019  UPI-KADAR BASHA A-Q87974607@YBL-PUNB0792300-93...   9.3351E+11   \n",
       "1  01-12-2019  UPI-MUTHUAKSHMI VEGETABL-Q88513705@YBL-TMBL000...   9.3351E+11   \n",
       "2  01-12-2019  UPI-SABARITHULASIRAM G-7845433075@YBL-HDFC0001...   9.3352E+11   \n",
       "3  02-12-2019  UPI-GIREESH VARMAA E R-GIREESHVARMAA-1@OKHDFCB...  93360237360   \n",
       "4  02-12-2019  UPI-SUDHEESH V-Q92737643@YBL-CNRB0000000-93363...  93369113204   \n",
       "\n",
       "     Value Dt  Withdrawal Amt.  Deposit Amt.  Closing Balance  \n",
       "0  01-12-2019            625.0           NaN         23209.69  \n",
       "1  01-12-2019            385.0           NaN         22824.69  \n",
       "2  01-12-2019            274.0           NaN         22550.69  \n",
       "3  02-12-2019            500.0           NaN         22050.69  \n",
       "4  02-12-2019             10.0           NaN         22040.69  "
      ]
     },
     "execution_count": 5,
     "metadata": {},
     "output_type": "execute_result"
    }
   ],
   "source": [
    "### printing top 5 samples\n",
    "data3.head()"
   ]
  },
  {
   "cell_type": "markdown",
   "metadata": {},
   "source": [
    "## EDA"
   ]
  },
  {
   "cell_type": "markdown",
   "metadata": {},
   "source": [
    "### Column Names"
   ]
  },
  {
   "cell_type": "code",
   "execution_count": 6,
   "metadata": {},
   "outputs": [
    {
     "data": {
      "text/plain": [
       "0               Date\n",
       "1          Narration\n",
       "2       Chq./Ref.No.\n",
       "3           Value Dt\n",
       "4    Withdrawal Amt.\n",
       "5       Deposit Amt.\n",
       "6    Closing Balance\n",
       "dtype: object"
      ]
     },
     "execution_count": 6,
     "metadata": {},
     "output_type": "execute_result"
    }
   ],
   "source": [
    "pd.Series(data1.columns)"
   ]
  },
  {
   "cell_type": "markdown",
   "metadata": {},
   "source": [
    "### Datatypes"
   ]
  },
  {
   "cell_type": "code",
   "execution_count": 7,
   "metadata": {},
   "outputs": [
    {
     "data": {
      "text/plain": [
       "Date                object\n",
       "Narration           object\n",
       "Chq./Ref.No.        object\n",
       "Value Dt            object\n",
       "Withdrawal Amt.    float64\n",
       "Deposit Amt.       float64\n",
       "Closing Balance    float64\n",
       "dtype: object"
      ]
     },
     "execution_count": 7,
     "metadata": {},
     "output_type": "execute_result"
    }
   ],
   "source": [
    "data1.dtypes"
   ]
  },
  {
   "cell_type": "markdown",
   "metadata": {},
   "source": [
    "### Shape of Data"
   ]
  },
  {
   "cell_type": "code",
   "execution_count": 8,
   "metadata": {},
   "outputs": [
    {
     "name": "stdout",
     "output_type": "stream",
     "text": [
      "(376, 7)\n",
      "(373, 7)\n",
      "(492, 7)\n"
     ]
    }
   ],
   "source": [
    "print(data1.shape)\n",
    "print(data2.shape)\n",
    "print(data3.shape)"
   ]
  },
  {
   "cell_type": "markdown",
   "metadata": {},
   "source": [
    "### Merging all data in single dataframe"
   ]
  },
  {
   "cell_type": "code",
   "execution_count": 9,
   "metadata": {},
   "outputs": [],
   "source": [
    "## concatenating the all dataframe into single dataframe\n",
    "df=pd.concat([data1,data2,data3],axis=0,join='outer')"
   ]
  },
  {
   "cell_type": "code",
   "execution_count": 10,
   "metadata": {},
   "outputs": [
    {
     "data": {
      "text/html": [
       "<div>\n",
       "<style scoped>\n",
       "    .dataframe tbody tr th:only-of-type {\n",
       "        vertical-align: middle;\n",
       "    }\n",
       "\n",
       "    .dataframe tbody tr th {\n",
       "        vertical-align: top;\n",
       "    }\n",
       "\n",
       "    .dataframe thead th {\n",
       "        text-align: right;\n",
       "    }\n",
       "</style>\n",
       "<table border=\"1\" class=\"dataframe\">\n",
       "  <thead>\n",
       "    <tr style=\"text-align: right;\">\n",
       "      <th></th>\n",
       "      <th>Date</th>\n",
       "      <th>Narration</th>\n",
       "      <th>Chq./Ref.No.</th>\n",
       "      <th>Value Dt</th>\n",
       "      <th>Withdrawal Amt.</th>\n",
       "      <th>Deposit Amt.</th>\n",
       "      <th>Closing Balance</th>\n",
       "    </tr>\n",
       "  </thead>\n",
       "  <tbody>\n",
       "    <tr>\n",
       "      <th>0</th>\n",
       "      <td>02-04-2019</td>\n",
       "      <td>UPI-6111974179-SABARIKTS2@OKHDFCBANK-PAY-90920...</td>\n",
       "      <td>90929027268</td>\n",
       "      <td>02-04-2019</td>\n",
       "      <td>NaN</td>\n",
       "      <td>900.00</td>\n",
       "      <td>20369.03</td>\n",
       "    </tr>\n",
       "    <tr>\n",
       "      <th>1</th>\n",
       "      <td>02-04-2019</td>\n",
       "      <td>POS 416021XXXXXX3832 SAPPDA VANGA POS DEBIT</td>\n",
       "      <td>7781</td>\n",
       "      <td>02-04-2019</td>\n",
       "      <td>36.0</td>\n",
       "      <td>NaN</td>\n",
       "      <td>20333.03</td>\n",
       "    </tr>\n",
       "    <tr>\n",
       "      <th>2</th>\n",
       "      <td>02-04-2019</td>\n",
       "      <td>POS 416021XXXXXX3832 KANNAN CATERING POS DEBIT</td>\n",
       "      <td>61552</td>\n",
       "      <td>02-04-2019</td>\n",
       "      <td>15.0</td>\n",
       "      <td>NaN</td>\n",
       "      <td>20318.03</td>\n",
       "    </tr>\n",
       "    <tr>\n",
       "      <th>3</th>\n",
       "      <td>02-04-2019</td>\n",
       "      <td>NWD-416021XXXXXX3832-IOBD5356-CHENNAI</td>\n",
       "      <td>9.09221E+11</td>\n",
       "      <td>02-04-2019</td>\n",
       "      <td>500.0</td>\n",
       "      <td>NaN</td>\n",
       "      <td>19818.03</td>\n",
       "    </tr>\n",
       "    <tr>\n",
       "      <th>4</th>\n",
       "      <td>03-04-2019</td>\n",
       "      <td>REV POS 416021******3832 0310 DISCOUNT O</td>\n",
       "      <td>0</td>\n",
       "      <td>03-04-2019</td>\n",
       "      <td>NaN</td>\n",
       "      <td>0.75</td>\n",
       "      <td>19818.78</td>\n",
       "    </tr>\n",
       "  </tbody>\n",
       "</table>\n",
       "</div>"
      ],
      "text/plain": [
       "         Date                                          Narration Chq./Ref.No.  \\\n",
       "0  02-04-2019  UPI-6111974179-SABARIKTS2@OKHDFCBANK-PAY-90920...  90929027268   \n",
       "1  02-04-2019        POS 416021XXXXXX3832 SAPPDA VANGA POS DEBIT         7781   \n",
       "2  02-04-2019     POS 416021XXXXXX3832 KANNAN CATERING POS DEBIT        61552   \n",
       "3  02-04-2019              NWD-416021XXXXXX3832-IOBD5356-CHENNAI  9.09221E+11   \n",
       "4  03-04-2019           REV POS 416021******3832 0310 DISCOUNT O            0   \n",
       "\n",
       "     Value Dt  Withdrawal Amt.  Deposit Amt.  Closing Balance  \n",
       "0  02-04-2019              NaN        900.00         20369.03  \n",
       "1  02-04-2019             36.0           NaN         20333.03  \n",
       "2  02-04-2019             15.0           NaN         20318.03  \n",
       "3  02-04-2019            500.0           NaN         19818.03  \n",
       "4  03-04-2019              NaN          0.75         19818.78  "
      ]
     },
     "execution_count": 10,
     "metadata": {},
     "output_type": "execute_result"
    }
   ],
   "source": [
    "### printing top 5 samples\n",
    "df.head()"
   ]
  },
  {
   "cell_type": "code",
   "execution_count": 11,
   "metadata": {},
   "outputs": [
    {
     "data": {
      "text/html": [
       "<div>\n",
       "<style scoped>\n",
       "    .dataframe tbody tr th:only-of-type {\n",
       "        vertical-align: middle;\n",
       "    }\n",
       "\n",
       "    .dataframe tbody tr th {\n",
       "        vertical-align: top;\n",
       "    }\n",
       "\n",
       "    .dataframe thead th {\n",
       "        text-align: right;\n",
       "    }\n",
       "</style>\n",
       "<table border=\"1\" class=\"dataframe\">\n",
       "  <thead>\n",
       "    <tr style=\"text-align: right;\">\n",
       "      <th></th>\n",
       "      <th>Date</th>\n",
       "      <th>Narration</th>\n",
       "      <th>Chq./Ref.No.</th>\n",
       "      <th>Value Dt</th>\n",
       "      <th>Withdrawal Amt.</th>\n",
       "      <th>Deposit Amt.</th>\n",
       "      <th>Closing Balance</th>\n",
       "    </tr>\n",
       "  </thead>\n",
       "  <tbody>\n",
       "    <tr>\n",
       "      <th>487</th>\n",
       "      <td>01-04-2020</td>\n",
       "      <td>CREDIT INTEREST CAPITALISED</td>\n",
       "      <td>0</td>\n",
       "      <td>31-03-2020</td>\n",
       "      <td>NaN</td>\n",
       "      <td>57.0</td>\n",
       "      <td>30751.94</td>\n",
       "    </tr>\n",
       "    <tr>\n",
       "      <th>488</th>\n",
       "      <td>01-04-2020</td>\n",
       "      <td>UPI-ESAKKIMUTHU M-Q55982980@YBL-KVBL0001284-00...</td>\n",
       "      <td>9210785703</td>\n",
       "      <td>01-04-2020</td>\n",
       "      <td>373.0</td>\n",
       "      <td>NaN</td>\n",
       "      <td>30378.94</td>\n",
       "    </tr>\n",
       "    <tr>\n",
       "      <th>489</th>\n",
       "      <td>01-04-2020</td>\n",
       "      <td>UPI-KUPPUSAMY  P-Q73041214@YBL-SBIN0007850-009...</td>\n",
       "      <td>9210867618</td>\n",
       "      <td>01-04-2020</td>\n",
       "      <td>60.0</td>\n",
       "      <td>NaN</td>\n",
       "      <td>30318.94</td>\n",
       "    </tr>\n",
       "    <tr>\n",
       "      <th>490</th>\n",
       "      <td>01-04-2020</td>\n",
       "      <td>UPI-KUPPUSAMY  P-Q73041214@YBL-SBIN0007850-009...</td>\n",
       "      <td>9210871967</td>\n",
       "      <td>01-04-2020</td>\n",
       "      <td>60.0</td>\n",
       "      <td>NaN</td>\n",
       "      <td>30258.94</td>\n",
       "    </tr>\n",
       "    <tr>\n",
       "      <th>491</th>\n",
       "      <td>01-04-2020</td>\n",
       "      <td>UPI-GOKUL PRASHANTH RAVI-GOKULPRASHANTHR12-1@O...</td>\n",
       "      <td>9211009029</td>\n",
       "      <td>01-04-2020</td>\n",
       "      <td>NaN</td>\n",
       "      <td>1840.0</td>\n",
       "      <td>32098.94</td>\n",
       "    </tr>\n",
       "  </tbody>\n",
       "</table>\n",
       "</div>"
      ],
      "text/plain": [
       "           Date                                          Narration  \\\n",
       "487  01-04-2020                        CREDIT INTEREST CAPITALISED   \n",
       "488  01-04-2020  UPI-ESAKKIMUTHU M-Q55982980@YBL-KVBL0001284-00...   \n",
       "489  01-04-2020  UPI-KUPPUSAMY  P-Q73041214@YBL-SBIN0007850-009...   \n",
       "490  01-04-2020  UPI-KUPPUSAMY  P-Q73041214@YBL-SBIN0007850-009...   \n",
       "491  01-04-2020  UPI-GOKUL PRASHANTH RAVI-GOKULPRASHANTHR12-1@O...   \n",
       "\n",
       "    Chq./Ref.No.    Value Dt  Withdrawal Amt.  Deposit Amt.  Closing Balance  \n",
       "487            0  31-03-2020              NaN          57.0         30751.94  \n",
       "488   9210785703  01-04-2020            373.0           NaN         30378.94  \n",
       "489   9210867618  01-04-2020             60.0           NaN         30318.94  \n",
       "490   9210871967  01-04-2020             60.0           NaN         30258.94  \n",
       "491   9211009029  01-04-2020              NaN        1840.0         32098.94  "
      ]
     },
     "execution_count": 11,
     "metadata": {},
     "output_type": "execute_result"
    }
   ],
   "source": [
    "### printing bottom 5 samples\n",
    "df.tail()"
   ]
  },
  {
   "cell_type": "code",
   "execution_count": 12,
   "metadata": {},
   "outputs": [],
   "source": [
    "## Exporting into csv for future reference\n",
    "#df.to_csv('ref.csv') "
   ]
  },
  {
   "cell_type": "code",
   "execution_count": 13,
   "metadata": {},
   "outputs": [
    {
     "data": {
      "text/plain": [
       "(1241, 7)"
      ]
     },
     "execution_count": 13,
     "metadata": {},
     "output_type": "execute_result"
    }
   ],
   "source": [
    "### shape of merged dataframe\n",
    "df.shape"
   ]
  },
  {
   "cell_type": "markdown",
   "metadata": {},
   "source": [
    "### Checking for any missing values"
   ]
  },
  {
   "cell_type": "code",
   "execution_count": 14,
   "metadata": {},
   "outputs": [
    {
     "data": {
      "text/plain": [
       "Date                 0\n",
       "Narration            0\n",
       "Chq./Ref.No.         0\n",
       "Value Dt             0\n",
       "Withdrawal Amt.    274\n",
       "Deposit Amt.       967\n",
       "Closing Balance      0\n",
       "dtype: int64"
      ]
     },
     "execution_count": 14,
     "metadata": {},
     "output_type": "execute_result"
    }
   ],
   "source": [
    "df.isna().sum()"
   ]
  },
  {
   "cell_type": "markdown",
   "metadata": {},
   "source": [
    "### Replacing missing values with zeros"
   ]
  },
  {
   "cell_type": "code",
   "execution_count": 15,
   "metadata": {},
   "outputs": [],
   "source": [
    "df.fillna(0,inplace=True)"
   ]
  },
  {
   "cell_type": "code",
   "execution_count": 16,
   "metadata": {},
   "outputs": [
    {
     "data": {
      "text/plain": [
       "Date               0\n",
       "Narration          0\n",
       "Chq./Ref.No.       0\n",
       "Value Dt           0\n",
       "Withdrawal Amt.    0\n",
       "Deposit Amt.       0\n",
       "Closing Balance    0\n",
       "dtype: int64"
      ]
     },
     "execution_count": 16,
     "metadata": {},
     "output_type": "execute_result"
    }
   ],
   "source": [
    "### Rechecking for any missing values\n",
    "df.isna().sum()"
   ]
  },
  {
   "cell_type": "markdown",
   "metadata": {},
   "source": [
    "### Checking for unique values in dataframe"
   ]
  },
  {
   "cell_type": "code",
   "execution_count": 17,
   "metadata": {},
   "outputs": [
    {
     "name": "stdout",
     "output_type": "stream",
     "text": [
      "Date\n",
      "310\n",
      "\n",
      "----------------\n",
      "Narration\n",
      "936\n",
      "\n",
      "----------------\n",
      "Chq./Ref.No.\n",
      "1110\n",
      "\n",
      "----------------\n",
      "Value Dt\n",
      "308\n",
      "\n",
      "----------------\n",
      "Withdrawal Amt.\n",
      "255\n",
      "\n",
      "----------------\n",
      "Deposit Amt.\n",
      "108\n",
      "\n",
      "----------------\n",
      "Closing Balance\n",
      "1145\n",
      "\n",
      "----------------\n"
     ]
    }
   ],
   "source": [
    "for i in df.columns:\n",
    "    print(i)\n",
    "    print(df[i].nunique())\n",
    "    print()\n",
    "    print('----------------')"
   ]
  },
  {
   "cell_type": "code",
   "execution_count": 18,
   "metadata": {},
   "outputs": [
    {
     "name": "stdout",
     "output_type": "stream",
     "text": [
      "Date               131\n",
      "Narration          131\n",
      "Chq./Ref.No.       131\n",
      "Value Dt           131\n",
      "Withdrawal Amt.    131\n",
      "Deposit Amt.       131\n",
      "Closing Balance    131\n",
      "dtype: int64\n"
     ]
    }
   ],
   "source": [
    "### Duplicate value count in columns\n",
    "print(df[df['Chq./Ref.No.'].duplicated()].count())"
   ]
  },
  {
   "cell_type": "code",
   "execution_count": 19,
   "metadata": {},
   "outputs": [
    {
     "data": {
      "text/html": [
       "<div>\n",
       "<style scoped>\n",
       "    .dataframe tbody tr th:only-of-type {\n",
       "        vertical-align: middle;\n",
       "    }\n",
       "\n",
       "    .dataframe tbody tr th {\n",
       "        vertical-align: top;\n",
       "    }\n",
       "\n",
       "    .dataframe thead th {\n",
       "        text-align: right;\n",
       "    }\n",
       "</style>\n",
       "<table border=\"1\" class=\"dataframe\">\n",
       "  <thead>\n",
       "    <tr style=\"text-align: right;\">\n",
       "      <th></th>\n",
       "      <th>Date</th>\n",
       "      <th>Narration</th>\n",
       "      <th>Chq./Ref.No.</th>\n",
       "      <th>Value Dt</th>\n",
       "      <th>Withdrawal Amt.</th>\n",
       "      <th>Deposit Amt.</th>\n",
       "      <th>Closing Balance</th>\n",
       "    </tr>\n",
       "  </thead>\n",
       "  <tbody>\n",
       "    <tr>\n",
       "      <th>13</th>\n",
       "      <td>06-04-2019</td>\n",
       "      <td>POS 416021XXXXXX3832 MUTHU TIFFEN CEN POS DEBIT</td>\n",
       "      <td>9.09618E+11</td>\n",
       "      <td>06-04-2019</td>\n",
       "      <td>120.0</td>\n",
       "      <td>0.00</td>\n",
       "      <td>4775.78</td>\n",
       "    </tr>\n",
       "    <tr>\n",
       "      <th>17</th>\n",
       "      <td>08-04-2019</td>\n",
       "      <td>EMI 66188604 CHQ S661886040011 041966188604</td>\n",
       "      <td>0</td>\n",
       "      <td>08-04-2019</td>\n",
       "      <td>3539.0</td>\n",
       "      <td>0.00</td>\n",
       "      <td>550.78</td>\n",
       "    </tr>\n",
       "    <tr>\n",
       "      <th>33</th>\n",
       "      <td>12-04-2019</td>\n",
       "      <td>UPI-GIREESH VARMAA E R-GIREESHVARMAA-1@OKHDFCB...</td>\n",
       "      <td>9.10221E+11</td>\n",
       "      <td>12-04-2019</td>\n",
       "      <td>0.0</td>\n",
       "      <td>200.00</td>\n",
       "      <td>350.78</td>\n",
       "    </tr>\n",
       "    <tr>\n",
       "      <th>34</th>\n",
       "      <td>12-04-2019</td>\n",
       "      <td>UPI-JEFFREY RAJ GUEZOU C-JEFFREYRAJCJ@OKHDFCBA...</td>\n",
       "      <td>9.10221E+11</td>\n",
       "      <td>12-04-2019</td>\n",
       "      <td>0.0</td>\n",
       "      <td>50.00</td>\n",
       "      <td>400.78</td>\n",
       "    </tr>\n",
       "    <tr>\n",
       "      <th>37</th>\n",
       "      <td>13-04-2019</td>\n",
       "      <td>POS 416021XXXXXX3832 JM ENTERPRISE POS DEBIT</td>\n",
       "      <td>9.10313E+11</td>\n",
       "      <td>13-04-2019</td>\n",
       "      <td>200.0</td>\n",
       "      <td>0.00</td>\n",
       "      <td>262.78</td>\n",
       "    </tr>\n",
       "    <tr>\n",
       "      <th>...</th>\n",
       "      <td>...</td>\n",
       "      <td>...</td>\n",
       "      <td>...</td>\n",
       "      <td>...</td>\n",
       "      <td>...</td>\n",
       "      <td>...</td>\n",
       "      <td>...</td>\n",
       "    </tr>\n",
       "    <tr>\n",
       "      <th>404</th>\n",
       "      <td>11-03-2020</td>\n",
       "      <td>POS REF 416021******0914-03/11 ..AG AGEN</td>\n",
       "      <td>0</td>\n",
       "      <td>11-03-2020</td>\n",
       "      <td>0.0</td>\n",
       "      <td>3.94</td>\n",
       "      <td>2414.30</td>\n",
       "    </tr>\n",
       "    <tr>\n",
       "      <th>425</th>\n",
       "      <td>16-03-2020</td>\n",
       "      <td>POS 416021XXXXXX0914 CURRYS N CRUNCH</td>\n",
       "      <td>1601</td>\n",
       "      <td>16-03-2020</td>\n",
       "      <td>-115.0</td>\n",
       "      <td>0.00</td>\n",
       "      <td>11861.30</td>\n",
       "    </tr>\n",
       "    <tr>\n",
       "      <th>473</th>\n",
       "      <td>26-03-2020</td>\n",
       "      <td>POS REF 416021******0914-03/25 HPCL COMC</td>\n",
       "      <td>0</td>\n",
       "      <td>26-03-2020</td>\n",
       "      <td>0.0</td>\n",
       "      <td>3.94</td>\n",
       "      <td>6217.74</td>\n",
       "    </tr>\n",
       "    <tr>\n",
       "      <th>486</th>\n",
       "      <td>31-03-2020</td>\n",
       "      <td>CRV POS-416021******0914-0101-SARATH FUE</td>\n",
       "      <td>0</td>\n",
       "      <td>31-03-2020</td>\n",
       "      <td>0.0</td>\n",
       "      <td>3.20</td>\n",
       "      <td>30694.94</td>\n",
       "    </tr>\n",
       "    <tr>\n",
       "      <th>487</th>\n",
       "      <td>01-04-2020</td>\n",
       "      <td>CREDIT INTEREST CAPITALISED</td>\n",
       "      <td>0</td>\n",
       "      <td>31-03-2020</td>\n",
       "      <td>0.0</td>\n",
       "      <td>57.00</td>\n",
       "      <td>30751.94</td>\n",
       "    </tr>\n",
       "  </tbody>\n",
       "</table>\n",
       "<p>131 rows × 7 columns</p>\n",
       "</div>"
      ],
      "text/plain": [
       "           Date                                          Narration  \\\n",
       "13   06-04-2019    POS 416021XXXXXX3832 MUTHU TIFFEN CEN POS DEBIT   \n",
       "17   08-04-2019        EMI 66188604 CHQ S661886040011 041966188604   \n",
       "33   12-04-2019  UPI-GIREESH VARMAA E R-GIREESHVARMAA-1@OKHDFCB...   \n",
       "34   12-04-2019  UPI-JEFFREY RAJ GUEZOU C-JEFFREYRAJCJ@OKHDFCBA...   \n",
       "37   13-04-2019       POS 416021XXXXXX3832 JM ENTERPRISE POS DEBIT   \n",
       "..          ...                                                ...   \n",
       "404  11-03-2020           POS REF 416021******0914-03/11 ..AG AGEN   \n",
       "425  16-03-2020               POS 416021XXXXXX0914 CURRYS N CRUNCH   \n",
       "473  26-03-2020           POS REF 416021******0914-03/25 HPCL COMC   \n",
       "486  31-03-2020           CRV POS-416021******0914-0101-SARATH FUE   \n",
       "487  01-04-2020                        CREDIT INTEREST CAPITALISED   \n",
       "\n",
       "    Chq./Ref.No.    Value Dt  Withdrawal Amt.  Deposit Amt.  Closing Balance  \n",
       "13   9.09618E+11  06-04-2019            120.0          0.00          4775.78  \n",
       "17             0  08-04-2019           3539.0          0.00           550.78  \n",
       "33   9.10221E+11  12-04-2019              0.0        200.00           350.78  \n",
       "34   9.10221E+11  12-04-2019              0.0         50.00           400.78  \n",
       "37   9.10313E+11  13-04-2019            200.0          0.00           262.78  \n",
       "..           ...         ...              ...           ...              ...  \n",
       "404            0  11-03-2020              0.0          3.94          2414.30  \n",
       "425         1601  16-03-2020           -115.0          0.00         11861.30  \n",
       "473            0  26-03-2020              0.0          3.94          6217.74  \n",
       "486            0  31-03-2020              0.0          3.20         30694.94  \n",
       "487            0  31-03-2020              0.0         57.00         30751.94  \n",
       "\n",
       "[131 rows x 7 columns]"
      ]
     },
     "execution_count": 19,
     "metadata": {},
     "output_type": "execute_result"
    }
   ],
   "source": [
    "### Duplicate values in columns\n",
    "df[df['Chq./Ref.No.'].duplicated()]"
   ]
  },
  {
   "cell_type": "markdown",
   "metadata": {},
   "source": [
    "### Dropping non significant columns"
   ]
  },
  {
   "cell_type": "code",
   "execution_count": 20,
   "metadata": {},
   "outputs": [],
   "source": [
    "df.drop('Chq./Ref.No.',axis=1,inplace=True)\n",
    "df.drop('Narration',axis=1,inplace=True)"
   ]
  },
  {
   "cell_type": "code",
   "execution_count": 21,
   "metadata": {},
   "outputs": [
    {
     "data": {
      "text/html": [
       "<div>\n",
       "<style scoped>\n",
       "    .dataframe tbody tr th:only-of-type {\n",
       "        vertical-align: middle;\n",
       "    }\n",
       "\n",
       "    .dataframe tbody tr th {\n",
       "        vertical-align: top;\n",
       "    }\n",
       "\n",
       "    .dataframe thead th {\n",
       "        text-align: right;\n",
       "    }\n",
       "</style>\n",
       "<table border=\"1\" class=\"dataframe\">\n",
       "  <thead>\n",
       "    <tr style=\"text-align: right;\">\n",
       "      <th></th>\n",
       "      <th>Date</th>\n",
       "      <th>Value Dt</th>\n",
       "      <th>Withdrawal Amt.</th>\n",
       "      <th>Deposit Amt.</th>\n",
       "      <th>Closing Balance</th>\n",
       "    </tr>\n",
       "  </thead>\n",
       "  <tbody>\n",
       "    <tr>\n",
       "      <th>482</th>\n",
       "      <td>30-03-2020</td>\n",
       "      <td>30-03-2020</td>\n",
       "      <td>91.0</td>\n",
       "      <td>0.0</td>\n",
       "      <td>5300.74</td>\n",
       "    </tr>\n",
       "    <tr>\n",
       "      <th>483</th>\n",
       "      <td>30-03-2020</td>\n",
       "      <td>30-03-2020</td>\n",
       "      <td>80.0</td>\n",
       "      <td>0.0</td>\n",
       "      <td>5220.74</td>\n",
       "    </tr>\n",
       "    <tr>\n",
       "      <th>484</th>\n",
       "      <td>31-03-2020</td>\n",
       "      <td>31-03-2020</td>\n",
       "      <td>0.0</td>\n",
       "      <td>25503.0</td>\n",
       "      <td>30723.74</td>\n",
       "    </tr>\n",
       "    <tr>\n",
       "      <th>485</th>\n",
       "      <td>31-03-2020</td>\n",
       "      <td>31-03-2020</td>\n",
       "      <td>32.0</td>\n",
       "      <td>0.0</td>\n",
       "      <td>30691.74</td>\n",
       "    </tr>\n",
       "    <tr>\n",
       "      <th>486</th>\n",
       "      <td>31-03-2020</td>\n",
       "      <td>31-03-2020</td>\n",
       "      <td>0.0</td>\n",
       "      <td>3.2</td>\n",
       "      <td>30694.94</td>\n",
       "    </tr>\n",
       "    <tr>\n",
       "      <th>487</th>\n",
       "      <td>01-04-2020</td>\n",
       "      <td>31-03-2020</td>\n",
       "      <td>0.0</td>\n",
       "      <td>57.0</td>\n",
       "      <td>30751.94</td>\n",
       "    </tr>\n",
       "    <tr>\n",
       "      <th>488</th>\n",
       "      <td>01-04-2020</td>\n",
       "      <td>01-04-2020</td>\n",
       "      <td>373.0</td>\n",
       "      <td>0.0</td>\n",
       "      <td>30378.94</td>\n",
       "    </tr>\n",
       "    <tr>\n",
       "      <th>489</th>\n",
       "      <td>01-04-2020</td>\n",
       "      <td>01-04-2020</td>\n",
       "      <td>60.0</td>\n",
       "      <td>0.0</td>\n",
       "      <td>30318.94</td>\n",
       "    </tr>\n",
       "    <tr>\n",
       "      <th>490</th>\n",
       "      <td>01-04-2020</td>\n",
       "      <td>01-04-2020</td>\n",
       "      <td>60.0</td>\n",
       "      <td>0.0</td>\n",
       "      <td>30258.94</td>\n",
       "    </tr>\n",
       "    <tr>\n",
       "      <th>491</th>\n",
       "      <td>01-04-2020</td>\n",
       "      <td>01-04-2020</td>\n",
       "      <td>0.0</td>\n",
       "      <td>1840.0</td>\n",
       "      <td>32098.94</td>\n",
       "    </tr>\n",
       "  </tbody>\n",
       "</table>\n",
       "</div>"
      ],
      "text/plain": [
       "           Date    Value Dt  Withdrawal Amt.  Deposit Amt.  Closing Balance\n",
       "482  30-03-2020  30-03-2020             91.0           0.0          5300.74\n",
       "483  30-03-2020  30-03-2020             80.0           0.0          5220.74\n",
       "484  31-03-2020  31-03-2020              0.0       25503.0         30723.74\n",
       "485  31-03-2020  31-03-2020             32.0           0.0         30691.74\n",
       "486  31-03-2020  31-03-2020              0.0           3.2         30694.94\n",
       "487  01-04-2020  31-03-2020              0.0          57.0         30751.94\n",
       "488  01-04-2020  01-04-2020            373.0           0.0         30378.94\n",
       "489  01-04-2020  01-04-2020             60.0           0.0         30318.94\n",
       "490  01-04-2020  01-04-2020             60.0           0.0         30258.94\n",
       "491  01-04-2020  01-04-2020              0.0        1840.0         32098.94"
      ]
     },
     "execution_count": 21,
     "metadata": {},
     "output_type": "execute_result"
    }
   ],
   "source": [
    "### Considering only till 2020-march , so deleting all above data\n",
    "df.tail(10)"
   ]
  },
  {
   "cell_type": "code",
   "execution_count": 22,
   "metadata": {},
   "outputs": [],
   "source": [
    "df.drop([487,488,489,490,491],inplace=True)"
   ]
  },
  {
   "cell_type": "code",
   "execution_count": 23,
   "metadata": {},
   "outputs": [
    {
     "data": {
      "text/html": [
       "<div>\n",
       "<style scoped>\n",
       "    .dataframe tbody tr th:only-of-type {\n",
       "        vertical-align: middle;\n",
       "    }\n",
       "\n",
       "    .dataframe tbody tr th {\n",
       "        vertical-align: top;\n",
       "    }\n",
       "\n",
       "    .dataframe thead th {\n",
       "        text-align: right;\n",
       "    }\n",
       "</style>\n",
       "<table border=\"1\" class=\"dataframe\">\n",
       "  <thead>\n",
       "    <tr style=\"text-align: right;\">\n",
       "      <th></th>\n",
       "      <th>Date</th>\n",
       "      <th>Value Dt</th>\n",
       "      <th>Withdrawal Amt.</th>\n",
       "      <th>Deposit Amt.</th>\n",
       "      <th>Closing Balance</th>\n",
       "    </tr>\n",
       "  </thead>\n",
       "  <tbody>\n",
       "    <tr>\n",
       "      <th>482</th>\n",
       "      <td>30-03-2020</td>\n",
       "      <td>30-03-2020</td>\n",
       "      <td>91.0</td>\n",
       "      <td>0.0</td>\n",
       "      <td>5300.74</td>\n",
       "    </tr>\n",
       "    <tr>\n",
       "      <th>483</th>\n",
       "      <td>30-03-2020</td>\n",
       "      <td>30-03-2020</td>\n",
       "      <td>80.0</td>\n",
       "      <td>0.0</td>\n",
       "      <td>5220.74</td>\n",
       "    </tr>\n",
       "    <tr>\n",
       "      <th>484</th>\n",
       "      <td>31-03-2020</td>\n",
       "      <td>31-03-2020</td>\n",
       "      <td>0.0</td>\n",
       "      <td>25503.0</td>\n",
       "      <td>30723.74</td>\n",
       "    </tr>\n",
       "    <tr>\n",
       "      <th>485</th>\n",
       "      <td>31-03-2020</td>\n",
       "      <td>31-03-2020</td>\n",
       "      <td>32.0</td>\n",
       "      <td>0.0</td>\n",
       "      <td>30691.74</td>\n",
       "    </tr>\n",
       "    <tr>\n",
       "      <th>486</th>\n",
       "      <td>31-03-2020</td>\n",
       "      <td>31-03-2020</td>\n",
       "      <td>0.0</td>\n",
       "      <td>3.2</td>\n",
       "      <td>30694.94</td>\n",
       "    </tr>\n",
       "  </tbody>\n",
       "</table>\n",
       "</div>"
      ],
      "text/plain": [
       "           Date    Value Dt  Withdrawal Amt.  Deposit Amt.  Closing Balance\n",
       "482  30-03-2020  30-03-2020             91.0           0.0          5300.74\n",
       "483  30-03-2020  30-03-2020             80.0           0.0          5220.74\n",
       "484  31-03-2020  31-03-2020              0.0       25503.0         30723.74\n",
       "485  31-03-2020  31-03-2020             32.0           0.0         30691.74\n",
       "486  31-03-2020  31-03-2020              0.0           3.2         30694.94"
      ]
     },
     "execution_count": 23,
     "metadata": {},
     "output_type": "execute_result"
    }
   ],
   "source": [
    "## Printing bottom 5 samples\n",
    "df.tail()"
   ]
  },
  {
   "cell_type": "markdown",
   "metadata": {},
   "source": [
    "### Chaging the date column to datetype"
   ]
  },
  {
   "cell_type": "code",
   "execution_count": 24,
   "metadata": {},
   "outputs": [
    {
     "data": {
      "text/html": [
       "<div>\n",
       "<style scoped>\n",
       "    .dataframe tbody tr th:only-of-type {\n",
       "        vertical-align: middle;\n",
       "    }\n",
       "\n",
       "    .dataframe tbody tr th {\n",
       "        vertical-align: top;\n",
       "    }\n",
       "\n",
       "    .dataframe thead th {\n",
       "        text-align: right;\n",
       "    }\n",
       "</style>\n",
       "<table border=\"1\" class=\"dataframe\">\n",
       "  <thead>\n",
       "    <tr style=\"text-align: right;\">\n",
       "      <th></th>\n",
       "      <th>Date</th>\n",
       "      <th>Value Dt</th>\n",
       "      <th>Withdrawal Amt.</th>\n",
       "      <th>Deposit Amt.</th>\n",
       "      <th>Closing Balance</th>\n",
       "    </tr>\n",
       "  </thead>\n",
       "  <tbody>\n",
       "    <tr>\n",
       "      <th>0</th>\n",
       "      <td>2019-04-02</td>\n",
       "      <td>02-04-2019</td>\n",
       "      <td>0.0</td>\n",
       "      <td>900.00</td>\n",
       "      <td>20369.03</td>\n",
       "    </tr>\n",
       "    <tr>\n",
       "      <th>1</th>\n",
       "      <td>2019-04-02</td>\n",
       "      <td>02-04-2019</td>\n",
       "      <td>36.0</td>\n",
       "      <td>0.00</td>\n",
       "      <td>20333.03</td>\n",
       "    </tr>\n",
       "    <tr>\n",
       "      <th>2</th>\n",
       "      <td>2019-04-02</td>\n",
       "      <td>02-04-2019</td>\n",
       "      <td>15.0</td>\n",
       "      <td>0.00</td>\n",
       "      <td>20318.03</td>\n",
       "    </tr>\n",
       "    <tr>\n",
       "      <th>3</th>\n",
       "      <td>2019-04-02</td>\n",
       "      <td>02-04-2019</td>\n",
       "      <td>500.0</td>\n",
       "      <td>0.00</td>\n",
       "      <td>19818.03</td>\n",
       "    </tr>\n",
       "    <tr>\n",
       "      <th>4</th>\n",
       "      <td>2019-04-03</td>\n",
       "      <td>03-04-2019</td>\n",
       "      <td>0.0</td>\n",
       "      <td>0.75</td>\n",
       "      <td>19818.78</td>\n",
       "    </tr>\n",
       "    <tr>\n",
       "      <th>5</th>\n",
       "      <td>2019-04-04</td>\n",
       "      <td>04-04-2019</td>\n",
       "      <td>20.0</td>\n",
       "      <td>0.00</td>\n",
       "      <td>19798.78</td>\n",
       "    </tr>\n",
       "    <tr>\n",
       "      <th>6</th>\n",
       "      <td>2019-04-04</td>\n",
       "      <td>04-04-2019</td>\n",
       "      <td>490.0</td>\n",
       "      <td>0.00</td>\n",
       "      <td>19308.78</td>\n",
       "    </tr>\n",
       "    <tr>\n",
       "      <th>7</th>\n",
       "      <td>2019-04-04</td>\n",
       "      <td>04-04-2019</td>\n",
       "      <td>8000.0</td>\n",
       "      <td>0.00</td>\n",
       "      <td>11308.78</td>\n",
       "    </tr>\n",
       "    <tr>\n",
       "      <th>8</th>\n",
       "      <td>2019-04-04</td>\n",
       "      <td>04-04-2019</td>\n",
       "      <td>3677.0</td>\n",
       "      <td>0.00</td>\n",
       "      <td>7631.78</td>\n",
       "    </tr>\n",
       "    <tr>\n",
       "      <th>9</th>\n",
       "      <td>2019-04-05</td>\n",
       "      <td>05-04-2019</td>\n",
       "      <td>36.0</td>\n",
       "      <td>0.00</td>\n",
       "      <td>7595.78</td>\n",
       "    </tr>\n",
       "  </tbody>\n",
       "</table>\n",
       "</div>"
      ],
      "text/plain": [
       "        Date    Value Dt  Withdrawal Amt.  Deposit Amt.  Closing Balance\n",
       "0 2019-04-02  02-04-2019              0.0        900.00         20369.03\n",
       "1 2019-04-02  02-04-2019             36.0          0.00         20333.03\n",
       "2 2019-04-02  02-04-2019             15.0          0.00         20318.03\n",
       "3 2019-04-02  02-04-2019            500.0          0.00         19818.03\n",
       "4 2019-04-03  03-04-2019              0.0          0.75         19818.78\n",
       "5 2019-04-04  04-04-2019             20.0          0.00         19798.78\n",
       "6 2019-04-04  04-04-2019            490.0          0.00         19308.78\n",
       "7 2019-04-04  04-04-2019           8000.0          0.00         11308.78\n",
       "8 2019-04-04  04-04-2019           3677.0          0.00          7631.78\n",
       "9 2019-04-05  05-04-2019             36.0          0.00          7595.78"
      ]
     },
     "execution_count": 24,
     "metadata": {},
     "output_type": "execute_result"
    }
   ],
   "source": [
    "df['Date']=pd.to_datetime(df['Date'],dayfirst=True)\n",
    "\n",
    "df.head(10)"
   ]
  },
  {
   "cell_type": "code",
   "execution_count": 25,
   "metadata": {},
   "outputs": [
    {
     "name": "stdout",
     "output_type": "stream",
     "text": [
      "<class 'pandas.core.frame.DataFrame'>\n",
      "Int64Index: 1236 entries, 0 to 486\n",
      "Data columns (total 5 columns):\n",
      " #   Column           Non-Null Count  Dtype         \n",
      "---  ------           --------------  -----         \n",
      " 0   Date             1236 non-null   datetime64[ns]\n",
      " 1   Value Dt         1236 non-null   object        \n",
      " 2   Withdrawal Amt.  1236 non-null   float64       \n",
      " 3   Deposit Amt.     1236 non-null   float64       \n",
      " 4   Closing Balance  1236 non-null   float64       \n",
      "dtypes: datetime64[ns](1), float64(3), object(1)\n",
      "memory usage: 57.9+ KB\n"
     ]
    }
   ],
   "source": [
    "### Checking for dataframe information\n",
    "df.info()"
   ]
  },
  {
   "cell_type": "markdown",
   "metadata": {},
   "source": [
    "### Renaming column Names"
   ]
  },
  {
   "cell_type": "code",
   "execution_count": 26,
   "metadata": {},
   "outputs": [
    {
     "data": {
      "text/plain": [
       "0              Date\n",
       "1         valuedate\n",
       "2        withdrawal\n",
       "3           deposit\n",
       "4    closingbalance\n",
       "dtype: object"
      ]
     },
     "execution_count": 26,
     "metadata": {},
     "output_type": "execute_result"
    }
   ],
   "source": [
    "df.rename(columns={'Value Dt':'valuedate','Withdrawal Amt.':'withdrawal','Deposit Amt.':'deposit','Closing Balance':'closingbalance'},inplace=True)\n",
    "pd.Series(df.columns)"
   ]
  },
  {
   "cell_type": "code",
   "execution_count": 27,
   "metadata": {},
   "outputs": [],
   "source": [
    "## changing the index to datetime index\n",
    "df.set_index('Date',inplace=True)"
   ]
  },
  {
   "cell_type": "code",
   "execution_count": 28,
   "metadata": {},
   "outputs": [
    {
     "data": {
      "text/plain": [
       "pandas.core.indexes.datetimes.DatetimeIndex"
      ]
     },
     "execution_count": 28,
     "metadata": {},
     "output_type": "execute_result"
    }
   ],
   "source": [
    "## Checking index type\n",
    "type(df.index)"
   ]
  },
  {
   "cell_type": "markdown",
   "metadata": {},
   "source": [
    "### Monthly spend anlaysis"
   ]
  },
  {
   "cell_type": "code",
   "execution_count": 29,
   "metadata": {},
   "outputs": [
    {
     "data": {
      "text/plain": [
       "Date\n",
       "2019-04-30     31437.00\n",
       "2019-05-31     46495.00\n",
       "2019-06-30     76947.00\n",
       "2019-07-31     39728.00\n",
       "2019-08-31    205279.45\n",
       "2019-09-30     79847.04\n",
       "2019-10-31     28710.00\n",
       "2019-11-30     40121.00\n",
       "2019-12-31     72469.13\n",
       "2020-01-31     76115.78\n",
       "2020-02-29     57751.10\n",
       "2020-03-31     97920.18\n",
       "Freq: M, Name: withdrawal, dtype: float64"
      ]
     },
     "execution_count": 29,
     "metadata": {},
     "output_type": "execute_result"
    }
   ],
   "source": [
    "df['withdrawal'].resample('M').sum()"
   ]
  },
  {
   "cell_type": "code",
   "execution_count": 30,
   "metadata": {},
   "outputs": [
    {
     "data": {
      "image/png": "[encoded data removed]",
      "text/plain": [
       "<Figure size 432x288 with 1 Axes>"
      ]
     },
     "metadata": {
      "needs_background": "light"
     },
     "output_type": "display_data"
    }
   ],
   "source": [
    "plt.plot(figsize=(20,20))\n",
    "plt.title('Monthly Spend Chart')\n",
    "plt.xlabel('Months')\n",
    "plt.ylabel('Amount Spent')\n",
    "df['withdrawal'].resample('M').sum().plot(kind='bar',color='violet')\n",
    "plt.show()"
   ]
  },
  {
   "cell_type": "markdown",
   "metadata": {},
   "source": [
    "### Monthly credit analysis"
   ]
  },
  {
   "cell_type": "code",
   "execution_count": 31,
   "metadata": {},
   "outputs": [
    {
     "data": {
      "text/plain": [
       "Date\n",
       "2019-04-30     37664.29\n",
       "2019-05-31     32832.00\n",
       "2019-06-30     84036.56\n",
       "2019-07-31     45378.00\n",
       "2019-08-31    191100.30\n",
       "2019-09-30     85549.00\n",
       "2019-10-31     37069.00\n",
       "2019-11-30     39301.00\n",
       "2019-12-31     76031.22\n",
       "2020-01-31     74733.70\n",
       "2020-02-29     58520.50\n",
       "2020-03-31    101831.02\n",
       "Freq: M, Name: deposit, dtype: float64"
      ]
     },
     "execution_count": 31,
     "metadata": {},
     "output_type": "execute_result"
    }
   ],
   "source": [
    "df['deposit'].resample('M').sum()"
   ]
  },
  {
   "cell_type": "code",
   "execution_count": 32,
   "metadata": {},
   "outputs": [
    {
     "data": {
      "image/png": "[encoded data removed]",
      "text/plain": [
       "<Figure size 432x288 with 1 Axes>"
      ]
     },
     "metadata": {
      "needs_background": "light"
     },
     "output_type": "display_data"
    }
   ],
   "source": [
    "plt.plot(figsize=(20,20))\n",
    "plt.title('Monthly Credit Chart')\n",
    "plt.xlabel('Months')\n",
    "plt.ylabel('Credit Amounts')\n",
    "df['withdrawal'].resample('M').sum().plot(kind='bar',color='blue')\n",
    "plt.show()"
   ]
  },
  {
   "cell_type": "markdown",
   "metadata": {},
   "source": [
    "### Checking data for timeseries forecast"
   ]
  },
  {
   "cell_type": "code",
   "execution_count": 33,
   "metadata": {},
   "outputs": [
    {
     "data": {
      "image/png": "[encoded data removed]",
      "text/plain": [
       "<Figure size 1440x1440 with 3 Axes>"
      ]
     },
     "metadata": {
      "needs_background": "light"
     },
     "output_type": "display_data"
    }
   ],
   "source": [
    "plt.figure(figsize=(20,20))\n",
    "plt.subplot(3,1,1)\n",
    "plt.title('Withdrawal Time Series')\n",
    "plt.plot(df[['withdrawal']])\n",
    "plt.subplot(3,1,2)\n",
    "plt.title('Deposit Time Series')\n",
    "plt.plot(df[['deposit']])\n",
    "plt.subplot(3,1,3)\n",
    "plt.title('ClosingBalance Time Series')\n",
    "plt.plot(df[['closingbalance']])\n",
    "plt.show()"
   ]
  },
  {
   "cell_type": "markdown",
   "metadata": {},
   "source": [
    "### Checking total monthly debit transaction "
   ]
  },
  {
   "cell_type": "code",
   "execution_count": 34,
   "metadata": {},
   "outputs": [
    {
     "data": {
      "text/plain": [
       "Date\n",
       "2019-04-30     80\n",
       "2019-05-31     77\n",
       "2019-06-30    118\n",
       "2019-07-31    101\n",
       "2019-08-31     89\n",
       "2019-09-30    109\n",
       "2019-10-31     98\n",
       "2019-11-30     77\n",
       "2019-12-31     87\n",
       "2020-01-31     71\n",
       "2020-02-29    174\n",
       "2020-03-31    155\n",
       "Freq: M, Name: withdrawal, dtype: int64"
      ]
     },
     "execution_count": 34,
     "metadata": {},
     "output_type": "execute_result"
    }
   ],
   "source": [
    "df['withdrawal'].resample('M').count()"
   ]
  },
  {
   "cell_type": "code",
   "execution_count": 35,
   "metadata": {},
   "outputs": [
    {
     "data": {
      "text/plain": [
       "<matplotlib.axes._subplots.AxesSubplot at 0x1fe5cb27bc8>"
      ]
     },
     "execution_count": 35,
     "metadata": {},
     "output_type": "execute_result"
    },
    {
     "data": {
      "image/png": "[encoded data removed]",
      "text/plain": [
       "<Figure size 1440x1080 with 2 Axes>"
      ]
     },
     "metadata": {
      "needs_background": "light"
     },
     "output_type": "display_data"
    }
   ],
   "source": [
    "plt.figure(figsize=(20,15))\n",
    "plt.subplot(2,1,1)\n",
    "plt.title('Monthly total debit tranasaction')\n",
    "df['withdrawal'].resample('M').count().plot(color='black')\n",
    "plt.subplot(2,1,2)\n",
    "plt.title('Monthly total debit tranasaction')\n",
    "df['withdrawal'].resample('M').count().plot(kind='bar',color='lightgreen')"
   ]
  },
  {
   "cell_type": "markdown",
   "metadata": {},
   "source": [
    "### Checking the total difference for credit and debit transaction"
   ]
  },
  {
   "cell_type": "code",
   "execution_count": 36,
   "metadata": {},
   "outputs": [
    {
     "name": "stdout",
     "output_type": "stream",
     "text": [
      "Date\n",
      "2019-04-30    0\n",
      "2019-05-31    0\n",
      "2019-06-30    0\n",
      "2019-07-31    0\n",
      "2019-08-31    0\n",
      "2019-09-30    0\n",
      "2019-10-31    0\n",
      "2019-11-30    0\n",
      "2019-12-31    0\n",
      "2020-01-31    0\n",
      "2020-02-29    0\n",
      "2020-03-31    0\n",
      "Freq: M, dtype: int64\n"
     ]
    }
   ],
   "source": [
    "debit_count=df['withdrawal'].resample('M').count()\n",
    "credit_count=df['deposit'].resample('M').count()\n",
    "total_diff_transaction=(debit_count-credit_count) \n",
    "print(total_diff_transaction)"
   ]
  },
  {
   "cell_type": "markdown",
   "metadata": {},
   "source": [
    "### Extracting insights using Pivot Transformation"
   ]
  },
  {
   "cell_type": "code",
   "execution_count": 37,
   "metadata": {},
   "outputs": [],
   "source": [
    "df.reset_index(inplace=True)\n",
    "df.set_index('Date',inplace=True)\n",
    "df_pivot=df.resample('D').sum()\n",
    "dates=pd.date_range(start='2019-04-02',periods=len(df_pivot),freq='D')\n",
    "df_pivot['month']=dates.month\n",
    "df_pivot['month']=df_pivot['month'].apply(lambda x:calendar.month_abbr[x])\n",
    "df_pivot['year']=dates.year\n",
    "df_pivot.reset_index(inplace=True)"
   ]
  },
  {
   "cell_type": "code",
   "execution_count": 38,
   "metadata": {},
   "outputs": [],
   "source": [
    "df_pivot['year']=df_pivot['year'].astype('str')\n",
    "df_pivot['month']=df_pivot['month'].astype('str')\n",
    "df_pivot['month-year']=df_pivot['month']+'-'+df_pivot['year']"
   ]
  },
  {
   "cell_type": "markdown",
   "metadata": {},
   "source": [
    "### Total Sum"
   ]
  },
  {
   "cell_type": "code",
   "execution_count": 39,
   "metadata": {},
   "outputs": [
    {
     "data": {
      "text/html": [
       "<div>\n",
       "<style scoped>\n",
       "    .dataframe tbody tr th:only-of-type {\n",
       "        vertical-align: middle;\n",
       "    }\n",
       "\n",
       "    .dataframe tbody tr th {\n",
       "        vertical-align: top;\n",
       "    }\n",
       "\n",
       "    .dataframe thead th {\n",
       "        text-align: right;\n",
       "    }\n",
       "</style>\n",
       "<table border=\"1\" class=\"dataframe\">\n",
       "  <thead>\n",
       "    <tr style=\"text-align: right;\">\n",
       "      <th></th>\n",
       "      <th>month</th>\n",
       "      <th>Apr</th>\n",
       "      <th>Aug</th>\n",
       "      <th>Dec</th>\n",
       "      <th>Feb</th>\n",
       "      <th>Jan</th>\n",
       "      <th>Jul</th>\n",
       "      <th>Jun</th>\n",
       "      <th>Mar</th>\n",
       "      <th>May</th>\n",
       "      <th>Nov</th>\n",
       "      <th>Oct</th>\n",
       "      <th>Sep</th>\n",
       "    </tr>\n",
       "    <tr>\n",
       "      <th></th>\n",
       "      <th>year</th>\n",
       "      <th></th>\n",
       "      <th></th>\n",
       "      <th></th>\n",
       "      <th></th>\n",
       "      <th></th>\n",
       "      <th></th>\n",
       "      <th></th>\n",
       "      <th></th>\n",
       "      <th></th>\n",
       "      <th></th>\n",
       "      <th></th>\n",
       "      <th></th>\n",
       "    </tr>\n",
       "  </thead>\n",
       "  <tbody>\n",
       "    <tr>\n",
       "      <th rowspan=\"2\" valign=\"top\">deposit</th>\n",
       "      <th>2019</th>\n",
       "      <td>37664.29</td>\n",
       "      <td>191100.30</td>\n",
       "      <td>76031.22</td>\n",
       "      <td>0.0</td>\n",
       "      <td>0.00</td>\n",
       "      <td>45378.0</td>\n",
       "      <td>84036.56</td>\n",
       "      <td>0.00</td>\n",
       "      <td>32832.0</td>\n",
       "      <td>39301.0</td>\n",
       "      <td>37069.0</td>\n",
       "      <td>85549.00</td>\n",
       "    </tr>\n",
       "    <tr>\n",
       "      <th>2020</th>\n",
       "      <td>0.00</td>\n",
       "      <td>0.00</td>\n",
       "      <td>0.00</td>\n",
       "      <td>58520.5</td>\n",
       "      <td>74733.70</td>\n",
       "      <td>0.0</td>\n",
       "      <td>0.00</td>\n",
       "      <td>101831.02</td>\n",
       "      <td>0.0</td>\n",
       "      <td>0.0</td>\n",
       "      <td>0.0</td>\n",
       "      <td>0.00</td>\n",
       "    </tr>\n",
       "    <tr>\n",
       "      <th rowspan=\"2\" valign=\"top\">withdrawal</th>\n",
       "      <th>2019</th>\n",
       "      <td>31437.00</td>\n",
       "      <td>205279.45</td>\n",
       "      <td>72469.13</td>\n",
       "      <td>0.0</td>\n",
       "      <td>0.00</td>\n",
       "      <td>39728.0</td>\n",
       "      <td>76947.00</td>\n",
       "      <td>0.00</td>\n",
       "      <td>46495.0</td>\n",
       "      <td>40121.0</td>\n",
       "      <td>28710.0</td>\n",
       "      <td>79847.04</td>\n",
       "    </tr>\n",
       "    <tr>\n",
       "      <th>2020</th>\n",
       "      <td>0.00</td>\n",
       "      <td>0.00</td>\n",
       "      <td>0.00</td>\n",
       "      <td>57751.1</td>\n",
       "      <td>76115.78</td>\n",
       "      <td>0.0</td>\n",
       "      <td>0.00</td>\n",
       "      <td>97920.18</td>\n",
       "      <td>0.0</td>\n",
       "      <td>0.0</td>\n",
       "      <td>0.0</td>\n",
       "      <td>0.00</td>\n",
       "    </tr>\n",
       "  </tbody>\n",
       "</table>\n",
       "</div>"
      ],
      "text/plain": [
       "month                 Apr        Aug       Dec      Feb       Jan      Jul  \\\n",
       "           year                                                              \n",
       "deposit    2019  37664.29  191100.30  76031.22      0.0      0.00  45378.0   \n",
       "           2020      0.00       0.00      0.00  58520.5  74733.70      0.0   \n",
       "withdrawal 2019  31437.00  205279.45  72469.13      0.0      0.00  39728.0   \n",
       "           2020      0.00       0.00      0.00  57751.1  76115.78      0.0   \n",
       "\n",
       "month                 Jun        Mar      May      Nov      Oct       Sep  \n",
       "           year                                                            \n",
       "deposit    2019  84036.56       0.00  32832.0  39301.0  37069.0  85549.00  \n",
       "           2020      0.00  101831.02      0.0      0.0      0.0      0.00  \n",
       "withdrawal 2019  76947.00       0.00  46495.0  40121.0  28710.0  79847.04  \n",
       "           2020      0.00   97920.18      0.0      0.0      0.0      0.00  "
      ]
     },
     "execution_count": 39,
     "metadata": {},
     "output_type": "execute_result"
    }
   ],
   "source": [
    "df_pivot.pivot_table(values=['withdrawal','deposit'],columns='year',index='month',aggfunc=sum).fillna(0).T"
   ]
  },
  {
   "cell_type": "markdown",
   "metadata": {},
   "source": [
    "### Total Average"
   ]
  },
  {
   "cell_type": "code",
   "execution_count": 40,
   "metadata": {},
   "outputs": [
    {
     "data": {
      "text/html": [
       "<div>\n",
       "<style scoped>\n",
       "    .dataframe tbody tr th:only-of-type {\n",
       "        vertical-align: middle;\n",
       "    }\n",
       "\n",
       "    .dataframe tbody tr th {\n",
       "        vertical-align: top;\n",
       "    }\n",
       "\n",
       "    .dataframe thead th {\n",
       "        text-align: right;\n",
       "    }\n",
       "</style>\n",
       "<table border=\"1\" class=\"dataframe\">\n",
       "  <thead>\n",
       "    <tr style=\"text-align: right;\">\n",
       "      <th></th>\n",
       "      <th>month</th>\n",
       "      <th>Apr</th>\n",
       "      <th>Aug</th>\n",
       "      <th>Dec</th>\n",
       "      <th>Feb</th>\n",
       "      <th>Jan</th>\n",
       "      <th>Jul</th>\n",
       "      <th>Jun</th>\n",
       "      <th>Mar</th>\n",
       "      <th>May</th>\n",
       "      <th>Nov</th>\n",
       "      <th>Oct</th>\n",
       "      <th>Sep</th>\n",
       "    </tr>\n",
       "    <tr>\n",
       "      <th></th>\n",
       "      <th>year</th>\n",
       "      <th></th>\n",
       "      <th></th>\n",
       "      <th></th>\n",
       "      <th></th>\n",
       "      <th></th>\n",
       "      <th></th>\n",
       "      <th></th>\n",
       "      <th></th>\n",
       "      <th></th>\n",
       "      <th></th>\n",
       "      <th></th>\n",
       "      <th></th>\n",
       "    </tr>\n",
       "  </thead>\n",
       "  <tbody>\n",
       "    <tr>\n",
       "      <th rowspan=\"2\" valign=\"top\">deposit</th>\n",
       "      <th>2019</th>\n",
       "      <td>1298.768621</td>\n",
       "      <td>6164.525806</td>\n",
       "      <td>2452.620000</td>\n",
       "      <td>0.000000</td>\n",
       "      <td>0.000000</td>\n",
       "      <td>1463.806452</td>\n",
       "      <td>2801.218667</td>\n",
       "      <td>0.000000</td>\n",
       "      <td>1059.096774</td>\n",
       "      <td>1310.033333</td>\n",
       "      <td>1195.774194</td>\n",
       "      <td>2851.633333</td>\n",
       "    </tr>\n",
       "    <tr>\n",
       "      <th>2020</th>\n",
       "      <td>0.000000</td>\n",
       "      <td>0.000000</td>\n",
       "      <td>0.000000</td>\n",
       "      <td>2017.948276</td>\n",
       "      <td>2410.764516</td>\n",
       "      <td>0.000000</td>\n",
       "      <td>0.000000</td>\n",
       "      <td>3284.871613</td>\n",
       "      <td>0.000000</td>\n",
       "      <td>0.000000</td>\n",
       "      <td>0.000000</td>\n",
       "      <td>0.000000</td>\n",
       "    </tr>\n",
       "    <tr>\n",
       "      <th rowspan=\"2\" valign=\"top\">withdrawal</th>\n",
       "      <th>2019</th>\n",
       "      <td>1084.034483</td>\n",
       "      <td>6621.917742</td>\n",
       "      <td>2337.713871</td>\n",
       "      <td>0.000000</td>\n",
       "      <td>0.000000</td>\n",
       "      <td>1281.548387</td>\n",
       "      <td>2564.900000</td>\n",
       "      <td>0.000000</td>\n",
       "      <td>1499.838710</td>\n",
       "      <td>1337.366667</td>\n",
       "      <td>926.129032</td>\n",
       "      <td>2661.568000</td>\n",
       "    </tr>\n",
       "    <tr>\n",
       "      <th>2020</th>\n",
       "      <td>0.000000</td>\n",
       "      <td>0.000000</td>\n",
       "      <td>0.000000</td>\n",
       "      <td>1991.417241</td>\n",
       "      <td>2455.347742</td>\n",
       "      <td>0.000000</td>\n",
       "      <td>0.000000</td>\n",
       "      <td>3158.715484</td>\n",
       "      <td>0.000000</td>\n",
       "      <td>0.000000</td>\n",
       "      <td>0.000000</td>\n",
       "      <td>0.000000</td>\n",
       "    </tr>\n",
       "  </tbody>\n",
       "</table>\n",
       "</div>"
      ],
      "text/plain": [
       "month                    Apr          Aug          Dec          Feb  \\\n",
       "           year                                                       \n",
       "deposit    2019  1298.768621  6164.525806  2452.620000     0.000000   \n",
       "           2020     0.000000     0.000000     0.000000  2017.948276   \n",
       "withdrawal 2019  1084.034483  6621.917742  2337.713871     0.000000   \n",
       "           2020     0.000000     0.000000     0.000000  1991.417241   \n",
       "\n",
       "month                    Jan          Jul          Jun          Mar  \\\n",
       "           year                                                       \n",
       "deposit    2019     0.000000  1463.806452  2801.218667     0.000000   \n",
       "           2020  2410.764516     0.000000     0.000000  3284.871613   \n",
       "withdrawal 2019     0.000000  1281.548387  2564.900000     0.000000   \n",
       "           2020  2455.347742     0.000000     0.000000  3158.715484   \n",
       "\n",
       "month                    May          Nov          Oct          Sep  \n",
       "           year                                                      \n",
       "deposit    2019  1059.096774  1310.033333  1195.774194  2851.633333  \n",
       "           2020     0.000000     0.000000     0.000000     0.000000  \n",
       "withdrawal 2019  1499.838710  1337.366667   926.129032  2661.568000  \n",
       "           2020     0.000000     0.000000     0.000000     0.000000  "
      ]
     },
     "execution_count": 40,
     "metadata": {},
     "output_type": "execute_result"
    }
   ],
   "source": [
    "df_pivot.pivot_table(values=['withdrawal','deposit'],columns='year',index='month',aggfunc='mean').fillna(0).T"
   ]
  },
  {
   "cell_type": "code",
   "execution_count": 41,
   "metadata": {},
   "outputs": [
    {
     "data": {
      "text/html": [
       "<div>\n",
       "<style scoped>\n",
       "    .dataframe tbody tr th:only-of-type {\n",
       "        vertical-align: middle;\n",
       "    }\n",
       "\n",
       "    .dataframe tbody tr th {\n",
       "        vertical-align: top;\n",
       "    }\n",
       "\n",
       "    .dataframe thead th {\n",
       "        text-align: right;\n",
       "    }\n",
       "</style>\n",
       "<table border=\"1\" class=\"dataframe\">\n",
       "  <thead>\n",
       "    <tr style=\"text-align: right;\">\n",
       "      <th></th>\n",
       "      <th></th>\n",
       "      <th></th>\n",
       "      <th>withdrawal</th>\n",
       "      <th>deposit</th>\n",
       "      <th>closingbalance</th>\n",
       "    </tr>\n",
       "    <tr>\n",
       "      <th>Date</th>\n",
       "      <th>Date</th>\n",
       "      <th>Date</th>\n",
       "      <th></th>\n",
       "      <th></th>\n",
       "      <th></th>\n",
       "    </tr>\n",
       "  </thead>\n",
       "  <tbody>\n",
       "    <tr>\n",
       "      <th rowspan=\"5\" valign=\"top\">2019</th>\n",
       "      <th rowspan=\"5\" valign=\"top\">4</th>\n",
       "      <th>2</th>\n",
       "      <td>551.0</td>\n",
       "      <td>900.00</td>\n",
       "      <td>80838.12</td>\n",
       "    </tr>\n",
       "    <tr>\n",
       "      <th>3</th>\n",
       "      <td>0.0</td>\n",
       "      <td>0.75</td>\n",
       "      <td>19818.78</td>\n",
       "    </tr>\n",
       "    <tr>\n",
       "      <th>4</th>\n",
       "      <td>12187.0</td>\n",
       "      <td>0.00</td>\n",
       "      <td>58048.12</td>\n",
       "    </tr>\n",
       "    <tr>\n",
       "      <th>5</th>\n",
       "      <td>36.0</td>\n",
       "      <td>0.00</td>\n",
       "      <td>7595.78</td>\n",
       "    </tr>\n",
       "    <tr>\n",
       "      <th>6</th>\n",
       "      <td>2820.0</td>\n",
       "      <td>0.00</td>\n",
       "      <td>22463.12</td>\n",
       "    </tr>\n",
       "    <tr>\n",
       "      <th>...</th>\n",
       "      <th>...</th>\n",
       "      <th>...</th>\n",
       "      <td>...</td>\n",
       "      <td>...</td>\n",
       "      <td>...</td>\n",
       "    </tr>\n",
       "    <tr>\n",
       "      <th rowspan=\"5\" valign=\"top\">2020</th>\n",
       "      <th rowspan=\"5\" valign=\"top\">3</th>\n",
       "      <th>27</th>\n",
       "      <td>905.0</td>\n",
       "      <td>200.00</td>\n",
       "      <td>29595.70</td>\n",
       "    </tr>\n",
       "    <tr>\n",
       "      <th>28</th>\n",
       "      <td>68.0</td>\n",
       "      <td>0.00</td>\n",
       "      <td>5444.74</td>\n",
       "    </tr>\n",
       "    <tr>\n",
       "      <th>29</th>\n",
       "      <td>53.0</td>\n",
       "      <td>0.00</td>\n",
       "      <td>10806.48</td>\n",
       "    </tr>\n",
       "    <tr>\n",
       "      <th>30</th>\n",
       "      <td>171.0</td>\n",
       "      <td>0.00</td>\n",
       "      <td>10521.48</td>\n",
       "    </tr>\n",
       "    <tr>\n",
       "      <th>31</th>\n",
       "      <td>32.0</td>\n",
       "      <td>25506.20</td>\n",
       "      <td>92110.42</td>\n",
       "    </tr>\n",
       "  </tbody>\n",
       "</table>\n",
       "<p>309 rows × 3 columns</p>\n",
       "</div>"
      ],
      "text/plain": [
       "                withdrawal   deposit  closingbalance\n",
       "Date Date Date                                      \n",
       "2019 4    2          551.0    900.00        80838.12\n",
       "          3            0.0      0.75        19818.78\n",
       "          4        12187.0      0.00        58048.12\n",
       "          5           36.0      0.00         7595.78\n",
       "          6         2820.0      0.00        22463.12\n",
       "...                    ...       ...             ...\n",
       "2020 3    27         905.0    200.00        29595.70\n",
       "          28          68.0      0.00         5444.74\n",
       "          29          53.0      0.00        10806.48\n",
       "          30         171.0      0.00        10521.48\n",
       "          31          32.0  25506.20        92110.42\n",
       "\n",
       "[309 rows x 3 columns]"
      ]
     },
     "execution_count": 41,
     "metadata": {},
     "output_type": "execute_result"
    }
   ],
   "source": [
    "df_grouped = df.groupby([df.index.year,df.index.month,df.index.day],as_index=True).sum()\n",
    "df_grouped"
   ]
  },
  {
   "cell_type": "markdown",
   "metadata": {},
   "source": [
    "### Decomposing the monthly spent analysis"
   ]
  },
  {
   "cell_type": "code",
   "execution_count": 42,
   "metadata": {},
   "outputs": [
    {
     "data": {
      "text/plain": [
       "<Figure size 72000x72000 with 0 Axes>"
      ]
     },
     "metadata": {},
     "output_type": "display_data"
    },
    {
     "data": {
      "image/png": "[encoded data removed]",
      "text/plain": [
       "<Figure size 432x288 with 4 Axes>"
      ]
     },
     "metadata": {
      "needs_background": "light"
     },
     "output_type": "display_data"
    }
   ],
   "source": [
    "from statsmodels.tsa.seasonal import seasonal_decompose\n",
    "plt.figure(figsize=(1000,1000))\n",
    "transaction=df['withdrawal'].resample('M').count()\n",
    "d=seasonal_decompose(transaction,period=1)\n",
    "d.plot()\n",
    "plt.show()"
   ]
  },
  {
   "cell_type": "markdown",
   "metadata": {},
   "source": [
    "Since minimum duration of fluctuation to decompose is 2 years.But we have only one year data.So, we are considering the period to 1 cycle."
   ]
  },
  {
   "cell_type": "markdown",
   "metadata": {},
   "source": [
    "### Trend values in the cycle"
   ]
  },
  {
   "cell_type": "code",
   "execution_count": 43,
   "metadata": {},
   "outputs": [
    {
     "data": {
      "text/plain": [
       "Date\n",
       "2019-04-30     80.0\n",
       "2019-05-31     77.0\n",
       "2019-06-30    118.0\n",
       "2019-07-31    101.0\n",
       "2019-08-31     89.0\n",
       "2019-09-30    109.0\n",
       "2019-10-31     98.0\n",
       "2019-11-30     77.0\n",
       "2019-12-31     87.0\n",
       "2020-01-31     71.0\n",
       "2020-02-29    174.0\n",
       "2020-03-31    155.0\n",
       "Freq: M, Name: trend, dtype: float64"
      ]
     },
     "execution_count": 43,
     "metadata": {},
     "output_type": "execute_result"
    }
   ],
   "source": [
    "d.trend"
   ]
  },
  {
   "cell_type": "markdown",
   "metadata": {},
   "source": [
    "### Seasonal values in cycle"
   ]
  },
  {
   "cell_type": "code",
   "execution_count": 44,
   "metadata": {},
   "outputs": [
    {
     "data": {
      "text/plain": [
       "Date\n",
       "2019-04-30    0.0\n",
       "2019-05-31    0.0\n",
       "2019-06-30    0.0\n",
       "2019-07-31    0.0\n",
       "2019-08-31    0.0\n",
       "2019-09-30    0.0\n",
       "2019-10-31    0.0\n",
       "2019-11-30    0.0\n",
       "2019-12-31    0.0\n",
       "2020-01-31    0.0\n",
       "2020-02-29    0.0\n",
       "2020-03-31    0.0\n",
       "Freq: M, Name: seasonal, dtype: float64"
      ]
     },
     "execution_count": 44,
     "metadata": {},
     "output_type": "execute_result"
    }
   ],
   "source": [
    "d.seasonal"
   ]
  },
  {
   "cell_type": "markdown",
   "metadata": {},
   "source": [
    "Hence there will be no seasonal values because no flucatuations between period"
   ]
  },
  {
   "cell_type": "markdown",
   "metadata": {},
   "source": [
    "### Residuals in cylce"
   ]
  },
  {
   "cell_type": "code",
   "execution_count": 45,
   "metadata": {},
   "outputs": [
    {
     "data": {
      "text/plain": [
       "Date\n",
       "2019-04-30    0.0\n",
       "2019-05-31    0.0\n",
       "2019-06-30    0.0\n",
       "2019-07-31    0.0\n",
       "2019-08-31    0.0\n",
       "2019-09-30    0.0\n",
       "2019-10-31    0.0\n",
       "2019-11-30    0.0\n",
       "2019-12-31    0.0\n",
       "2020-01-31    0.0\n",
       "2020-02-29    0.0\n",
       "2020-03-31    0.0\n",
       "Freq: M, Name: resid, dtype: float64"
      ]
     },
     "execution_count": 45,
     "metadata": {},
     "output_type": "execute_result"
    }
   ],
   "source": [
    "d.resid"
   ]
  },
  {
   "cell_type": "markdown",
   "metadata": {},
   "source": [
    "Hence no seasonal there is no fluctuations and Hence if no fluctuations there is no residuals."
   ]
  },
  {
   "cell_type": "markdown",
   "metadata": {},
   "source": [
    "## Summary"
   ]
  },
  {
   "cell_type": "markdown",
   "metadata": {},
   "source": [
    "- This dataset does not follow Time Series Sequences.\n",
    "- Forecasting is not possible.Hence Exploratory Data Analysis is done deeply.\n",
    "- June and August month has comparitively more spent than other months\n",
    "- Trend has been captured."
   ]
  }
 ],
 "metadata": {
  "kernelspec": {
   "display_name": "Python 3",
   "language": "python",
   "name": "python3"
  },
  "language_info": {
   "codemirror_mode": {
    "name": "ipython",
    "version": 3
   },
   "file_extension": ".py",
   "mimetype": "text/x-python",
   "name": "python",
   "nbconvert_exporter": "python",
   "pygments_lexer": "ipython3",
   "version": "3.7.6"
  }
 },
 "nbformat": 4,
 "nbformat_minor": 4
}
