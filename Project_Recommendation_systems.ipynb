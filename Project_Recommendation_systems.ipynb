{
 "cells": [
  {
   "cell_type": "markdown",
   "metadata": {},
   "source": [
    "### Importing all needed Libraries"
   ]
  },
  {
   "cell_type": "code",
   "execution_count": 1,
   "metadata": {},
   "outputs": [],
   "source": [
    "import numpy as np\n",
    "import pandas as pd\n",
    "import seaborn as sns\n",
    "import matplotlib.pyplot as plt\n",
    "%matplotlib inline\n",
    "from warnings import simplefilter\n",
    "simplefilter('ignore')\n",
    "from scipy.sparse.linalg import svds\n",
    "from sklearn.model_selection import train_test_split\n",
    "from sklearn.metrics import mean_absolute_error,mean_squared_error"
   ]
  },
  {
   "cell_type": "markdown",
   "metadata": {},
   "source": [
    "### Loading the Dataset"
   ]
  },
  {
   "cell_type": "code",
   "execution_count": 2,
   "metadata": {},
   "outputs": [
    {
     "data": {
      "text/html": [
       "<div>\n",
       "<style scoped>\n",
       "    .dataframe tbody tr th:only-of-type {\n",
       "        vertical-align: middle;\n",
       "    }\n",
       "\n",
       "    .dataframe tbody tr th {\n",
       "        vertical-align: top;\n",
       "    }\n",
       "\n",
       "    .dataframe thead th {\n",
       "        text-align: right;\n",
       "    }\n",
       "</style>\n",
       "<table border=\"1\" class=\"dataframe\">\n",
       "  <thead>\n",
       "    <tr style=\"text-align: right;\">\n",
       "      <th></th>\n",
       "      <th>0</th>\n",
       "      <th>1</th>\n",
       "      <th>2</th>\n",
       "      <th>3</th>\n",
       "    </tr>\n",
       "  </thead>\n",
       "  <tbody>\n",
       "    <tr>\n",
       "      <td>0</td>\n",
       "      <td>AKM1MP6P0OYPR</td>\n",
       "      <td>132793040</td>\n",
       "      <td>5</td>\n",
       "      <td>1365811200</td>\n",
       "    </tr>\n",
       "    <tr>\n",
       "      <td>1</td>\n",
       "      <td>A2CX7LUOHB2NDG</td>\n",
       "      <td>321732944</td>\n",
       "      <td>5</td>\n",
       "      <td>1341100800</td>\n",
       "    </tr>\n",
       "    <tr>\n",
       "      <td>2</td>\n",
       "      <td>A2NWSAGRHCP8N5</td>\n",
       "      <td>439886341</td>\n",
       "      <td>1</td>\n",
       "      <td>1367193600</td>\n",
       "    </tr>\n",
       "    <tr>\n",
       "      <td>3</td>\n",
       "      <td>A2WNBOD3WNDNKT</td>\n",
       "      <td>439886341</td>\n",
       "      <td>3</td>\n",
       "      <td>1374451200</td>\n",
       "    </tr>\n",
       "    <tr>\n",
       "      <td>4</td>\n",
       "      <td>A1GI0U4ZRJA8WN</td>\n",
       "      <td>439886341</td>\n",
       "      <td>1</td>\n",
       "      <td>1334707200</td>\n",
       "    </tr>\n",
       "  </tbody>\n",
       "</table>\n",
       "</div>"
      ],
      "text/plain": [
       "                0          1  2           3\n",
       "0   AKM1MP6P0OYPR  132793040  5  1365811200\n",
       "1  A2CX7LUOHB2NDG  321732944  5  1341100800\n",
       "2  A2NWSAGRHCP8N5  439886341  1  1367193600\n",
       "3  A2WNBOD3WNDNKT  439886341  3  1374451200\n",
       "4  A1GI0U4ZRJA8WN  439886341  1  1334707200"
      ]
     },
     "execution_count": 2,
     "metadata": {},
     "output_type": "execute_result"
    }
   ],
   "source": [
    "df=pd.read_csv('ratings_electronics.csv',header=None)\n",
    "df.head()"
   ]
  },
  {
   "cell_type": "code",
   "execution_count": 3,
   "metadata": {},
   "outputs": [
    {
     "data": {
      "text/html": [
       "<div>\n",
       "<style scoped>\n",
       "    .dataframe tbody tr th:only-of-type {\n",
       "        vertical-align: middle;\n",
       "    }\n",
       "\n",
       "    .dataframe tbody tr th {\n",
       "        vertical-align: top;\n",
       "    }\n",
       "\n",
       "    .dataframe thead th {\n",
       "        text-align: right;\n",
       "    }\n",
       "</style>\n",
       "<table border=\"1\" class=\"dataframe\">\n",
       "  <thead>\n",
       "    <tr style=\"text-align: right;\">\n",
       "      <th></th>\n",
       "      <th>userId</th>\n",
       "      <th>productId</th>\n",
       "      <th>rating</th>\n",
       "      <th>timestamp</th>\n",
       "    </tr>\n",
       "  </thead>\n",
       "  <tbody>\n",
       "    <tr>\n",
       "      <td>0</td>\n",
       "      <td>AKM1MP6P0OYPR</td>\n",
       "      <td>132793040</td>\n",
       "      <td>5</td>\n",
       "      <td>1365811200</td>\n",
       "    </tr>\n",
       "    <tr>\n",
       "      <td>1</td>\n",
       "      <td>A2CX7LUOHB2NDG</td>\n",
       "      <td>321732944</td>\n",
       "      <td>5</td>\n",
       "      <td>1341100800</td>\n",
       "    </tr>\n",
       "    <tr>\n",
       "      <td>2</td>\n",
       "      <td>A2NWSAGRHCP8N5</td>\n",
       "      <td>439886341</td>\n",
       "      <td>1</td>\n",
       "      <td>1367193600</td>\n",
       "    </tr>\n",
       "    <tr>\n",
       "      <td>3</td>\n",
       "      <td>A2WNBOD3WNDNKT</td>\n",
       "      <td>439886341</td>\n",
       "      <td>3</td>\n",
       "      <td>1374451200</td>\n",
       "    </tr>\n",
       "    <tr>\n",
       "      <td>4</td>\n",
       "      <td>A1GI0U4ZRJA8WN</td>\n",
       "      <td>439886341</td>\n",
       "      <td>1</td>\n",
       "      <td>1334707200</td>\n",
       "    </tr>\n",
       "  </tbody>\n",
       "</table>\n",
       "</div>"
      ],
      "text/plain": [
       "           userId  productId  rating   timestamp\n",
       "0   AKM1MP6P0OYPR  132793040       5  1365811200\n",
       "1  A2CX7LUOHB2NDG  321732944       5  1341100800\n",
       "2  A2NWSAGRHCP8N5  439886341       1  1367193600\n",
       "3  A2WNBOD3WNDNKT  439886341       3  1374451200\n",
       "4  A1GI0U4ZRJA8WN  439886341       1  1334707200"
      ]
     },
     "execution_count": 3,
     "metadata": {},
     "output_type": "execute_result"
    }
   ],
   "source": [
    "### Adding the column names\n",
    "df.columns=['userId','productId','rating','timestamp']\n",
    "df.head()"
   ]
  },
  {
   "cell_type": "code",
   "execution_count": 4,
   "metadata": {},
   "outputs": [],
   "source": [
    "### Dropping the Timestamp column\n",
    "df.drop('timestamp',axis=1,inplace=True)"
   ]
  },
  {
   "cell_type": "markdown",
   "metadata": {},
   "source": [
    "### Exploratory Data Analysis"
   ]
  },
  {
   "cell_type": "code",
   "execution_count": 5,
   "metadata": {
    "scrolled": true
   },
   "outputs": [
    {
     "name": "stdout",
     "output_type": "stream",
     "text": [
      "(1048576, 3)\n",
      "\n",
      "This dataset has 1048576 Rows and 3 columns\n"
     ]
    }
   ],
   "source": [
    "print(df.shape)\n",
    "print()\n",
    "print('This dataset has {} Rows and {} columns'.format(df.shape[0],df.shape[1]))"
   ]
  },
  {
   "cell_type": "code",
   "execution_count": 6,
   "metadata": {},
   "outputs": [],
   "source": [
    "df=df.iloc[:50000,0:]"
   ]
  },
  {
   "cell_type": "markdown",
   "metadata": {},
   "source": [
    "- since the dataset is big , we have considered only with 50k Rows and 3 columns"
   ]
  },
  {
   "cell_type": "code",
   "execution_count": 7,
   "metadata": {},
   "outputs": [
    {
     "data": {
      "text/plain": [
       "(50000, 3)"
      ]
     },
     "execution_count": 7,
     "metadata": {},
     "output_type": "execute_result"
    }
   ],
   "source": [
    "### Reduced dataset\n",
    "df.shape"
   ]
  },
  {
   "cell_type": "markdown",
   "metadata": {},
   "source": [
    "### Datatype informations"
   ]
  },
  {
   "cell_type": "code",
   "execution_count": 8,
   "metadata": {},
   "outputs": [
    {
     "name": "stdout",
     "output_type": "stream",
     "text": [
      "<class 'pandas.core.frame.DataFrame'>\n",
      "RangeIndex: 50000 entries, 0 to 49999\n",
      "Data columns (total 3 columns):\n",
      "userId       50000 non-null object\n",
      "productId    50000 non-null object\n",
      "rating       50000 non-null int64\n",
      "dtypes: int64(1), object(2)\n",
      "memory usage: 1.1+ MB\n"
     ]
    }
   ],
   "source": [
    "df.info()"
   ]
  },
  {
   "cell_type": "code",
   "execution_count": 9,
   "metadata": {},
   "outputs": [],
   "source": [
    "### changing the datatype of rating to float\n",
    "df['rating']=df['rating'].astype('float')"
   ]
  },
  {
   "cell_type": "code",
   "execution_count": 10,
   "metadata": {
    "scrolled": true
   },
   "outputs": [
    {
     "name": "stdout",
     "output_type": "stream",
     "text": [
      "<class 'pandas.core.frame.DataFrame'>\n",
      "RangeIndex: 50000 entries, 0 to 49999\n",
      "Data columns (total 3 columns):\n",
      "userId       50000 non-null object\n",
      "productId    50000 non-null object\n",
      "rating       50000 non-null float64\n",
      "dtypes: float64(1), object(2)\n",
      "memory usage: 1.1+ MB\n"
     ]
    }
   ],
   "source": [
    "df.info()"
   ]
  },
  {
   "cell_type": "markdown",
   "metadata": {},
   "source": [
    "### Checking for any missing values"
   ]
  },
  {
   "cell_type": "code",
   "execution_count": 11,
   "metadata": {},
   "outputs": [
    {
     "data": {
      "text/plain": [
       "userId       0\n",
       "productId    0\n",
       "rating       0\n",
       "dtype: int64"
      ]
     },
     "execution_count": 11,
     "metadata": {},
     "output_type": "execute_result"
    }
   ],
   "source": [
    "df.isna().sum()"
   ]
  },
  {
   "cell_type": "code",
   "execution_count": 12,
   "metadata": {},
   "outputs": [
    {
     "data": {
      "text/plain": [
       "userId       0\n",
       "productId    0\n",
       "rating       0\n",
       "dtype: int64"
      ]
     },
     "execution_count": 12,
     "metadata": {},
     "output_type": "execute_result"
    }
   ],
   "source": [
    "df.isnull().sum()"
   ]
  },
  {
   "cell_type": "code",
   "execution_count": 13,
   "metadata": {},
   "outputs": [
    {
     "data": {
      "text/html": [
       "<div>\n",
       "<style scoped>\n",
       "    .dataframe tbody tr th:only-of-type {\n",
       "        vertical-align: middle;\n",
       "    }\n",
       "\n",
       "    .dataframe tbody tr th {\n",
       "        vertical-align: top;\n",
       "    }\n",
       "\n",
       "    .dataframe thead th {\n",
       "        text-align: right;\n",
       "    }\n",
       "</style>\n",
       "<table border=\"1\" class=\"dataframe\">\n",
       "  <thead>\n",
       "    <tr style=\"text-align: right;\">\n",
       "      <th></th>\n",
       "      <th>rating</th>\n",
       "    </tr>\n",
       "  </thead>\n",
       "  <tbody>\n",
       "    <tr>\n",
       "      <td>count</td>\n",
       "      <td>50000.00000</td>\n",
       "    </tr>\n",
       "    <tr>\n",
       "      <td>mean</td>\n",
       "      <td>4.03524</td>\n",
       "    </tr>\n",
       "    <tr>\n",
       "      <td>std</td>\n",
       "      <td>1.35555</td>\n",
       "    </tr>\n",
       "    <tr>\n",
       "      <td>min</td>\n",
       "      <td>1.00000</td>\n",
       "    </tr>\n",
       "    <tr>\n",
       "      <td>25%</td>\n",
       "      <td>4.00000</td>\n",
       "    </tr>\n",
       "    <tr>\n",
       "      <td>50%</td>\n",
       "      <td>5.00000</td>\n",
       "    </tr>\n",
       "    <tr>\n",
       "      <td>75%</td>\n",
       "      <td>5.00000</td>\n",
       "    </tr>\n",
       "    <tr>\n",
       "      <td>max</td>\n",
       "      <td>5.00000</td>\n",
       "    </tr>\n",
       "  </tbody>\n",
       "</table>\n",
       "</div>"
      ],
      "text/plain": [
       "            rating\n",
       "count  50000.00000\n",
       "mean       4.03524\n",
       "std        1.35555\n",
       "min        1.00000\n",
       "25%        4.00000\n",
       "50%        5.00000\n",
       "75%        5.00000\n",
       "max        5.00000"
      ]
     },
     "execution_count": 13,
     "metadata": {},
     "output_type": "execute_result"
    }
   ],
   "source": [
    "### 5 Point summary Details for Rating columns\n",
    "df.describe()"
   ]
  },
  {
   "cell_type": "code",
   "execution_count": 14,
   "metadata": {},
   "outputs": [
    {
     "data": {
      "text/plain": [
       "count              50000\n",
       "unique             46554\n",
       "top       A231WM2Z2JL0U3\n",
       "freq                  37\n",
       "Name: userId, dtype: object"
      ]
     },
     "execution_count": 14,
     "metadata": {},
     "output_type": "execute_result"
    }
   ],
   "source": [
    "df['userId'].describe()"
   ]
  },
  {
   "cell_type": "code",
   "execution_count": 15,
   "metadata": {},
   "outputs": [
    {
     "data": {
      "text/plain": [
       "count          50000\n",
       "unique          3446\n",
       "top       B00001P4ZH\n",
       "freq            2075\n",
       "Name: productId, dtype: object"
      ]
     },
     "execution_count": 15,
     "metadata": {},
     "output_type": "execute_result"
    }
   ],
   "source": [
    "df['productId'].describe()"
   ]
  },
  {
   "cell_type": "markdown",
   "metadata": {},
   "source": [
    "### Printing the unique value count in each columns"
   ]
  },
  {
   "cell_type": "code",
   "execution_count": 16,
   "metadata": {},
   "outputs": [
    {
     "name": "stdout",
     "output_type": "stream",
     "text": [
      "Unique UserID count : 46554\n",
      "Unique ProductID count : 3446\n",
      "Unique Rating count : 5\n"
     ]
    }
   ],
   "source": [
    "print('Unique UserID count :',df['userId'].nunique() )\n",
    "print('Unique ProductID count :',df['productId'].nunique() )\n",
    "print('Unique Rating count :',df['rating'].nunique() )"
   ]
  },
  {
   "cell_type": "markdown",
   "metadata": {},
   "source": [
    "### Datatypes of each columns"
   ]
  },
  {
   "cell_type": "code",
   "execution_count": 17,
   "metadata": {},
   "outputs": [
    {
     "data": {
      "text/plain": [
       "userId        object\n",
       "productId     object\n",
       "rating       float64\n",
       "dtype: object"
      ]
     },
     "execution_count": 17,
     "metadata": {},
     "output_type": "execute_result"
    }
   ],
   "source": [
    "df.dtypes"
   ]
  },
  {
   "cell_type": "markdown",
   "metadata": {},
   "source": [
    "#### Unique users and Products Count"
   ]
  },
  {
   "cell_type": "code",
   "execution_count": 18,
   "metadata": {},
   "outputs": [
    {
     "name": "stdout",
     "output_type": "stream",
     "text": [
      "Total no of unique Users: 46554\n",
      "Total no of unique Products: 3446\n"
     ]
    }
   ],
   "source": [
    "print('Total no of unique Users:',df['userId'].nunique())\n",
    "print('Total no of unique Products:',df['productId'].nunique())"
   ]
  },
  {
   "cell_type": "markdown",
   "metadata": {},
   "source": [
    "### Pairplotting the dataframe"
   ]
  },
  {
   "cell_type": "code",
   "execution_count": 19,
   "metadata": {
    "scrolled": true
   },
   "outputs": [
    {
     "data": {
      "text/plain": [
       "<seaborn.axisgrid.PairGrid at 0x173ee7daac8>"
      ]
     },
     "execution_count": 19,
     "metadata": {},
     "output_type": "execute_result"
    },
    {
     "data": {
      "image/png": "[encoded data removed]",
      "text/plain": [
       "<Figure size 180x180 with 2 Axes>"
      ]
     },
     "metadata": {
      "needs_background": "light"
     },
     "output_type": "display_data"
    }
   ],
   "source": [
    "sns.pairplot(df,diag_kind='kde')"
   ]
  },
  {
   "cell_type": "markdown",
   "metadata": {},
   "source": [
    " - Thus from above graph we could see that rating '5' has high distributions comparing other ratings"
   ]
  },
  {
   "cell_type": "code",
   "execution_count": 20,
   "metadata": {},
   "outputs": [
    {
     "data": {
      "text/html": [
       "<div>\n",
       "<style scoped>\n",
       "    .dataframe tbody tr th:only-of-type {\n",
       "        vertical-align: middle;\n",
       "    }\n",
       "\n",
       "    .dataframe tbody tr th {\n",
       "        vertical-align: top;\n",
       "    }\n",
       "\n",
       "    .dataframe thead th {\n",
       "        text-align: right;\n",
       "    }\n",
       "</style>\n",
       "<table border=\"1\" class=\"dataframe\">\n",
       "  <thead>\n",
       "    <tr style=\"text-align: right;\">\n",
       "      <th>productId</th>\n",
       "      <th>059400232X</th>\n",
       "      <th>089933623X</th>\n",
       "      <th>094339676X</th>\n",
       "      <th>1034385789</th>\n",
       "      <th>1039869017</th>\n",
       "      <th>1085901386</th>\n",
       "      <th>1094441252</th>\n",
       "      <th>1182702627</th>\n",
       "      <th>1254875778</th>\n",
       "      <th>132793040</th>\n",
       "      <th>...</th>\n",
       "      <th>B00004THQ7</th>\n",
       "      <th>B00004THQE</th>\n",
       "      <th>B00004THXT</th>\n",
       "      <th>B00004THXV</th>\n",
       "      <th>B00004TISI</th>\n",
       "      <th>B00004TIZS</th>\n",
       "      <th>B00004TIZT</th>\n",
       "      <th>B00004TIZW</th>\n",
       "      <th>B00004TJ0G</th>\n",
       "      <th>B00004TJ0L</th>\n",
       "    </tr>\n",
       "    <tr>\n",
       "      <th>userId</th>\n",
       "      <th></th>\n",
       "      <th></th>\n",
       "      <th></th>\n",
       "      <th></th>\n",
       "      <th></th>\n",
       "      <th></th>\n",
       "      <th></th>\n",
       "      <th></th>\n",
       "      <th></th>\n",
       "      <th></th>\n",
       "      <th></th>\n",
       "      <th></th>\n",
       "      <th></th>\n",
       "      <th></th>\n",
       "      <th></th>\n",
       "      <th></th>\n",
       "      <th></th>\n",
       "      <th></th>\n",
       "      <th></th>\n",
       "      <th></th>\n",
       "      <th></th>\n",
       "    </tr>\n",
       "  </thead>\n",
       "  <tbody>\n",
       "    <tr>\n",
       "      <td>A001944026UMZ8T3K5QH1</td>\n",
       "      <td>0.0</td>\n",
       "      <td>0.0</td>\n",
       "      <td>0.0</td>\n",
       "      <td>0.0</td>\n",
       "      <td>0.0</td>\n",
       "      <td>0.0</td>\n",
       "      <td>0.0</td>\n",
       "      <td>0.0</td>\n",
       "      <td>0.0</td>\n",
       "      <td>0.0</td>\n",
       "      <td>...</td>\n",
       "      <td>0.0</td>\n",
       "      <td>0.0</td>\n",
       "      <td>0.0</td>\n",
       "      <td>0.0</td>\n",
       "      <td>0.0</td>\n",
       "      <td>0.0</td>\n",
       "      <td>0.0</td>\n",
       "      <td>0.0</td>\n",
       "      <td>0.0</td>\n",
       "      <td>0.0</td>\n",
       "    </tr>\n",
       "    <tr>\n",
       "      <td>A00766851QZZUBOVF4JFT</td>\n",
       "      <td>0.0</td>\n",
       "      <td>0.0</td>\n",
       "      <td>0.0</td>\n",
       "      <td>0.0</td>\n",
       "      <td>0.0</td>\n",
       "      <td>0.0</td>\n",
       "      <td>0.0</td>\n",
       "      <td>0.0</td>\n",
       "      <td>0.0</td>\n",
       "      <td>0.0</td>\n",
       "      <td>...</td>\n",
       "      <td>0.0</td>\n",
       "      <td>0.0</td>\n",
       "      <td>0.0</td>\n",
       "      <td>0.0</td>\n",
       "      <td>0.0</td>\n",
       "      <td>0.0</td>\n",
       "      <td>0.0</td>\n",
       "      <td>0.0</td>\n",
       "      <td>0.0</td>\n",
       "      <td>0.0</td>\n",
       "    </tr>\n",
       "    <tr>\n",
       "      <td>A01255851ZO1U93P8RKGE</td>\n",
       "      <td>0.0</td>\n",
       "      <td>0.0</td>\n",
       "      <td>0.0</td>\n",
       "      <td>0.0</td>\n",
       "      <td>0.0</td>\n",
       "      <td>0.0</td>\n",
       "      <td>0.0</td>\n",
       "      <td>0.0</td>\n",
       "      <td>0.0</td>\n",
       "      <td>0.0</td>\n",
       "      <td>...</td>\n",
       "      <td>0.0</td>\n",
       "      <td>0.0</td>\n",
       "      <td>0.0</td>\n",
       "      <td>0.0</td>\n",
       "      <td>0.0</td>\n",
       "      <td>0.0</td>\n",
       "      <td>0.0</td>\n",
       "      <td>0.0</td>\n",
       "      <td>0.0</td>\n",
       "      <td>0.0</td>\n",
       "    </tr>\n",
       "    <tr>\n",
       "      <td>A014623426J5CM7M12MBW</td>\n",
       "      <td>0.0</td>\n",
       "      <td>0.0</td>\n",
       "      <td>0.0</td>\n",
       "      <td>0.0</td>\n",
       "      <td>0.0</td>\n",
       "      <td>0.0</td>\n",
       "      <td>0.0</td>\n",
       "      <td>0.0</td>\n",
       "      <td>0.0</td>\n",
       "      <td>0.0</td>\n",
       "      <td>...</td>\n",
       "      <td>0.0</td>\n",
       "      <td>0.0</td>\n",
       "      <td>0.0</td>\n",
       "      <td>0.0</td>\n",
       "      <td>0.0</td>\n",
       "      <td>0.0</td>\n",
       "      <td>0.0</td>\n",
       "      <td>0.0</td>\n",
       "      <td>0.0</td>\n",
       "      <td>0.0</td>\n",
       "    </tr>\n",
       "    <tr>\n",
       "      <td>A01580702BRW77PSJ9X34</td>\n",
       "      <td>0.0</td>\n",
       "      <td>0.0</td>\n",
       "      <td>0.0</td>\n",
       "      <td>0.0</td>\n",
       "      <td>0.0</td>\n",
       "      <td>0.0</td>\n",
       "      <td>0.0</td>\n",
       "      <td>0.0</td>\n",
       "      <td>0.0</td>\n",
       "      <td>0.0</td>\n",
       "      <td>...</td>\n",
       "      <td>0.0</td>\n",
       "      <td>0.0</td>\n",
       "      <td>0.0</td>\n",
       "      <td>0.0</td>\n",
       "      <td>0.0</td>\n",
       "      <td>0.0</td>\n",
       "      <td>0.0</td>\n",
       "      <td>0.0</td>\n",
       "      <td>0.0</td>\n",
       "      <td>0.0</td>\n",
       "    </tr>\n",
       "  </tbody>\n",
       "</table>\n",
       "<p>5 rows × 3446 columns</p>\n",
       "</div>"
      ],
      "text/plain": [
       "productId              059400232X  089933623X  094339676X  1034385789  \\\n",
       "userId                                                                  \n",
       "A001944026UMZ8T3K5QH1         0.0         0.0         0.0         0.0   \n",
       "A00766851QZZUBOVF4JFT         0.0         0.0         0.0         0.0   \n",
       "A01255851ZO1U93P8RKGE         0.0         0.0         0.0         0.0   \n",
       "A014623426J5CM7M12MBW         0.0         0.0         0.0         0.0   \n",
       "A01580702BRW77PSJ9X34         0.0         0.0         0.0         0.0   \n",
       "\n",
       "productId              1039869017  1085901386  1094441252  1182702627  \\\n",
       "userId                                                                  \n",
       "A001944026UMZ8T3K5QH1         0.0         0.0         0.0         0.0   \n",
       "A00766851QZZUBOVF4JFT         0.0         0.0         0.0         0.0   \n",
       "A01255851ZO1U93P8RKGE         0.0         0.0         0.0         0.0   \n",
       "A014623426J5CM7M12MBW         0.0         0.0         0.0         0.0   \n",
       "A01580702BRW77PSJ9X34         0.0         0.0         0.0         0.0   \n",
       "\n",
       "productId              1254875778  132793040  ...  B00004THQ7  B00004THQE  \\\n",
       "userId                                        ...                           \n",
       "A001944026UMZ8T3K5QH1         0.0        0.0  ...         0.0         0.0   \n",
       "A00766851QZZUBOVF4JFT         0.0        0.0  ...         0.0         0.0   \n",
       "A01255851ZO1U93P8RKGE         0.0        0.0  ...         0.0         0.0   \n",
       "A014623426J5CM7M12MBW         0.0        0.0  ...         0.0         0.0   \n",
       "A01580702BRW77PSJ9X34         0.0        0.0  ...         0.0         0.0   \n",
       "\n",
       "productId              B00004THXT  B00004THXV  B00004TISI  B00004TIZS  \\\n",
       "userId                                                                  \n",
       "A001944026UMZ8T3K5QH1         0.0         0.0         0.0         0.0   \n",
       "A00766851QZZUBOVF4JFT         0.0         0.0         0.0         0.0   \n",
       "A01255851ZO1U93P8RKGE         0.0         0.0         0.0         0.0   \n",
       "A014623426J5CM7M12MBW         0.0         0.0         0.0         0.0   \n",
       "A01580702BRW77PSJ9X34         0.0         0.0         0.0         0.0   \n",
       "\n",
       "productId              B00004TIZT  B00004TIZW  B00004TJ0G  B00004TJ0L  \n",
       "userId                                                                 \n",
       "A001944026UMZ8T3K5QH1         0.0         0.0         0.0         0.0  \n",
       "A00766851QZZUBOVF4JFT         0.0         0.0         0.0         0.0  \n",
       "A01255851ZO1U93P8RKGE         0.0         0.0         0.0         0.0  \n",
       "A014623426J5CM7M12MBW         0.0         0.0         0.0         0.0  \n",
       "A01580702BRW77PSJ9X34         0.0         0.0         0.0         0.0  \n",
       "\n",
       "[5 rows x 3446 columns]"
      ]
     },
     "execution_count": 20,
     "metadata": {},
     "output_type": "execute_result"
    }
   ],
   "source": [
    "df1=df.pivot(index = 'userId', columns ='productId', values = 'rating').fillna(0)\n",
    "df1.head()"
   ]
  },
  {
   "cell_type": "code",
   "execution_count": 21,
   "metadata": {},
   "outputs": [],
   "source": [
    "### Grouping by UserID\n",
    "df_usr_grp=df.groupby(['userId'])"
   ]
  },
  {
   "cell_type": "code",
   "execution_count": 22,
   "metadata": {},
   "outputs": [],
   "source": [
    "### Grouping by rating\n",
    "df_rat_grp=df.groupby(['rating'])"
   ]
  },
  {
   "cell_type": "code",
   "execution_count": 23,
   "metadata": {},
   "outputs": [],
   "source": [
    "### Grouping by ProductID\n",
    "df_prod_grp=df.groupby(['productId'])"
   ]
  },
  {
   "cell_type": "markdown",
   "metadata": {},
   "source": [
    "#### Count for each ratings"
   ]
  },
  {
   "cell_type": "code",
   "execution_count": 24,
   "metadata": {
    "scrolled": true
   },
   "outputs": [
    {
     "data": {
      "text/plain": [
       "rating\n",
       "1.0     5468\n",
       "2.0     2784\n",
       "3.0     3927\n",
       "4.0    10160\n",
       "5.0    27661\n",
       "Name: rating, dtype: int64"
      ]
     },
     "execution_count": 24,
     "metadata": {},
     "output_type": "execute_result"
    }
   ],
   "source": [
    "df_rat_grp['rating'].count()"
   ]
  },
  {
   "cell_type": "code",
   "execution_count": 25,
   "metadata": {
    "scrolled": true
   },
   "outputs": [
    {
     "data": {
      "text/plain": [
       "<matplotlib.axes._subplots.AxesSubplot at 0x173eed92e08>"
      ]
     },
     "execution_count": 25,
     "metadata": {},
     "output_type": "execute_result"
    },
    {
     "data": {
      "image/png": "[encoded data removed]",
      "text/plain": [
       "<Figure size 432x288 with 1 Axes>"
      ]
     },
     "metadata": {
      "needs_background": "light"
     },
     "output_type": "display_data"
    }
   ],
   "source": [
    "df_rat_grp['rating'].count().plot()"
   ]
  },
  {
   "cell_type": "code",
   "execution_count": 26,
   "metadata": {
    "scrolled": true
   },
   "outputs": [
    {
     "data": {
      "text/plain": [
       "<matplotlib.axes._subplots.AxesSubplot at 0x1738003ec08>"
      ]
     },
     "execution_count": 26,
     "metadata": {},
     "output_type": "execute_result"
    },
    {
     "data": {
      "image/png": "[encoded data removed]",
      "text/plain": [
       "<Figure size 432x288 with 1 Axes>"
      ]
     },
     "metadata": {},
     "output_type": "display_data"
    }
   ],
   "source": [
    "sns.set_style(style='whitegrid')\n",
    "sns.countplot(data=df,x='rating')"
   ]
  },
  {
   "cell_type": "markdown",
   "metadata": {},
   "source": [
    "### Product that got more ratings"
   ]
  },
  {
   "cell_type": "code",
   "execution_count": 27,
   "metadata": {},
   "outputs": [],
   "source": [
    "most_rated_product=df.groupby(['productId']).size().sort_values(ascending=False)[:10]"
   ]
  },
  {
   "cell_type": "code",
   "execution_count": 28,
   "metadata": {},
   "outputs": [
    {
     "data": {
      "text/plain": [
       "productId\n",
       "B00001P4ZH    2075\n",
       "B00004T8R2    1692\n",
       "B00001WRSJ    1586\n",
       "972683275     1051\n",
       "B00004SABB    1030\n",
       "B00004SB92    1006\n",
       "B00004THCZ     820\n",
       "B00001P4XA     579\n",
       "1400532655     484\n",
       "B00000K2YR     457\n",
       "dtype: int64"
      ]
     },
     "execution_count": 28,
     "metadata": {},
     "output_type": "execute_result"
    }
   ],
   "source": [
    "most_rated_product"
   ]
  },
  {
   "cell_type": "markdown",
   "metadata": {},
   "source": [
    "### Users who rated more ratings"
   ]
  },
  {
   "cell_type": "code",
   "execution_count": 29,
   "metadata": {},
   "outputs": [],
   "source": [
    "more_rated_user=df.groupby(['userId']).size().sort_values(ascending=False)[:10]"
   ]
  },
  {
   "cell_type": "code",
   "execution_count": 30,
   "metadata": {},
   "outputs": [
    {
     "data": {
      "text/plain": [
       "userId\n",
       "A231WM2Z2JL0U3    37\n",
       "AY8Q1X7G96HV5     31\n",
       "ALUNVOQRXOZIA     20\n",
       "A1NVD0TKNS1GT5    19\n",
       "A243HY69GIAHFI    18\n",
       "A1RPTVW5VEOSI     17\n",
       "A1ISUNUWG0K02V    16\n",
       "A1MJMYLRTZ76ZX    16\n",
       "A23ZO1BVFFLGHO    15\n",
       "A7Y6AVS576M03     15\n",
       "dtype: int64"
      ]
     },
     "execution_count": 30,
     "metadata": {},
     "output_type": "execute_result"
    }
   ],
   "source": [
    "more_rated_user"
   ]
  },
  {
   "cell_type": "markdown",
   "metadata": {},
   "source": [
    "#### we will consider the users who have rated more than 20 products"
   ]
  },
  {
   "cell_type": "code",
   "execution_count": 31,
   "metadata": {
    "scrolled": true
   },
   "outputs": [
    {
     "data": {
      "text/html": [
       "<div>\n",
       "<style scoped>\n",
       "    .dataframe tbody tr th:only-of-type {\n",
       "        vertical-align: middle;\n",
       "    }\n",
       "\n",
       "    .dataframe tbody tr th {\n",
       "        vertical-align: top;\n",
       "    }\n",
       "\n",
       "    .dataframe thead th {\n",
       "        text-align: right;\n",
       "    }\n",
       "</style>\n",
       "<table border=\"1\" class=\"dataframe\">\n",
       "  <thead>\n",
       "    <tr style=\"text-align: right;\">\n",
       "      <th></th>\n",
       "      <th>userId</th>\n",
       "      <th>productId</th>\n",
       "      <th>rating</th>\n",
       "    </tr>\n",
       "  </thead>\n",
       "  <tbody>\n",
       "    <tr>\n",
       "      <td>3050</td>\n",
       "      <td>ALUNVOQRXOZIA</td>\n",
       "      <td>1400599997</td>\n",
       "      <td>1.0</td>\n",
       "    </tr>\n",
       "    <tr>\n",
       "      <td>8100</td>\n",
       "      <td>AY8Q1X7G96HV5</td>\n",
       "      <td>B00000DM9M</td>\n",
       "      <td>5.0</td>\n",
       "    </tr>\n",
       "    <tr>\n",
       "      <td>8979</td>\n",
       "      <td>A1RPTVW5VEOSI</td>\n",
       "      <td>B00000J061</td>\n",
       "      <td>5.0</td>\n",
       "    </tr>\n",
       "    <tr>\n",
       "      <td>9098</td>\n",
       "      <td>AY8Q1X7G96HV5</td>\n",
       "      <td>B00000J08C</td>\n",
       "      <td>5.0</td>\n",
       "    </tr>\n",
       "    <tr>\n",
       "      <td>9220</td>\n",
       "      <td>ALUNVOQRXOZIA</td>\n",
       "      <td>B00000J0A2</td>\n",
       "      <td>4.0</td>\n",
       "    </tr>\n",
       "  </tbody>\n",
       "</table>\n",
       "</div>"
      ],
      "text/plain": [
       "             userId   productId  rating\n",
       "3050  ALUNVOQRXOZIA  1400599997     1.0\n",
       "8100  AY8Q1X7G96HV5  B00000DM9M     5.0\n",
       "8979  A1RPTVW5VEOSI  B00000J061     5.0\n",
       "9098  AY8Q1X7G96HV5  B00000J08C     5.0\n",
       "9220  ALUNVOQRXOZIA  B00000J0A2     4.0"
      ]
     },
     "execution_count": 31,
     "metadata": {},
     "output_type": "execute_result"
    }
   ],
   "source": [
    "counts=df['userId'].value_counts()\n",
    "df_final=df[df['userId'].isin(counts[counts>=15].index)]\n",
    "df_final.head()"
   ]
  },
  {
   "cell_type": "code",
   "execution_count": 32,
   "metadata": {},
   "outputs": [
    {
     "data": {
      "text/plain": [
       "(219, 3)"
      ]
     },
     "execution_count": 32,
     "metadata": {},
     "output_type": "execute_result"
    }
   ],
   "source": [
    "df_final.shape"
   ]
  },
  {
   "cell_type": "markdown",
   "metadata": {},
   "source": [
    "- And we considered users who have rated more than 4 products"
   ]
  },
  {
   "cell_type": "markdown",
   "metadata": {},
   "source": [
    "### Splitting the dataset into train and test data"
   ]
  },
  {
   "cell_type": "code",
   "execution_count": 33,
   "metadata": {},
   "outputs": [],
   "source": [
    "train_set,test_set=train_test_split(df_final,test_size=0.2)"
   ]
  },
  {
   "cell_type": "code",
   "execution_count": 34,
   "metadata": {},
   "outputs": [
    {
     "data": {
      "text/html": [
       "<div>\n",
       "<style scoped>\n",
       "    .dataframe tbody tr th:only-of-type {\n",
       "        vertical-align: middle;\n",
       "    }\n",
       "\n",
       "    .dataframe tbody tr th {\n",
       "        vertical-align: top;\n",
       "    }\n",
       "\n",
       "    .dataframe thead th {\n",
       "        text-align: right;\n",
       "    }\n",
       "</style>\n",
       "<table border=\"1\" class=\"dataframe\">\n",
       "  <thead>\n",
       "    <tr style=\"text-align: right;\">\n",
       "      <th></th>\n",
       "      <th>productId</th>\n",
       "      <th>score</th>\n",
       "    </tr>\n",
       "  </thead>\n",
       "  <tbody>\n",
       "    <tr>\n",
       "      <td>0</td>\n",
       "      <td>B00000DM9M</td>\n",
       "      <td>1</td>\n",
       "    </tr>\n",
       "    <tr>\n",
       "      <td>1</td>\n",
       "      <td>B00000J08C</td>\n",
       "      <td>1</td>\n",
       "    </tr>\n",
       "    <tr>\n",
       "      <td>2</td>\n",
       "      <td>B00000J0E8</td>\n",
       "      <td>1</td>\n",
       "    </tr>\n",
       "    <tr>\n",
       "      <td>3</td>\n",
       "      <td>B00000J1US</td>\n",
       "      <td>1</td>\n",
       "    </tr>\n",
       "    <tr>\n",
       "      <td>4</td>\n",
       "      <td>B00000J3H5</td>\n",
       "      <td>1</td>\n",
       "    </tr>\n",
       "  </tbody>\n",
       "</table>\n",
       "</div>"
      ],
      "text/plain": [
       "    productId  score\n",
       "0  B00000DM9M      1\n",
       "1  B00000J08C      1\n",
       "2  B00000J0E8      1\n",
       "3  B00000J1US      1\n",
       "4  B00000J3H5      1"
      ]
     },
     "execution_count": 34,
     "metadata": {},
     "output_type": "execute_result"
    }
   ],
   "source": [
    "train_grouped=train_set.groupby(['productId']).agg({'userId':'count'}).reset_index()\n",
    "train_grouped.rename(columns={'userId':'score'},inplace=True)\n",
    "train_grouped.head()"
   ]
  },
  {
   "cell_type": "code",
   "execution_count": 35,
   "metadata": {},
   "outputs": [],
   "source": [
    "train_sorted=train_grouped.sort_values(['score','productId'],ascending=[0,1])\n",
    "train_sorted['rank']=train_sorted['score'].rank(method='first',ascending=False)\n",
    "#train_sorted.head()\n",
    "popular_recommendations=train_sorted.head(7)"
   ]
  },
  {
   "cell_type": "code",
   "execution_count": 36,
   "metadata": {},
   "outputs": [],
   "source": [
    "def recommend(user_id):\n",
    "    user_recommendations=popular_recommendations\n",
    "    user_recommendations['user_id']=user_id\n",
    "    cols=user_recommendations.columns.tolist()\n",
    "    cols=cols[-1:]+cols[:-1]\n",
    "    user_recommendations=user_recommendations[cols]\n",
    "    return user_recommendations\n",
    "    "
   ]
  },
  {
   "cell_type": "code",
   "execution_count": 37,
   "metadata": {},
   "outputs": [
    {
     "data": {
      "text/html": [
       "<div>\n",
       "<style scoped>\n",
       "    .dataframe tbody tr th:only-of-type {\n",
       "        vertical-align: middle;\n",
       "    }\n",
       "\n",
       "    .dataframe tbody tr th {\n",
       "        vertical-align: top;\n",
       "    }\n",
       "\n",
       "    .dataframe thead th {\n",
       "        text-align: right;\n",
       "    }\n",
       "</style>\n",
       "<table border=\"1\" class=\"dataframe\">\n",
       "  <thead>\n",
       "    <tr style=\"text-align: right;\">\n",
       "      <th></th>\n",
       "      <th>user_id</th>\n",
       "      <th>productId</th>\n",
       "      <th>score</th>\n",
       "      <th>rank</th>\n",
       "    </tr>\n",
       "  </thead>\n",
       "  <tbody>\n",
       "    <tr>\n",
       "      <td>94</td>\n",
       "      <td>1</td>\n",
       "      <td>B00004RC2D</td>\n",
       "      <td>5</td>\n",
       "      <td>1.0</td>\n",
       "    </tr>\n",
       "    <tr>\n",
       "      <td>115</td>\n",
       "      <td>1</td>\n",
       "      <td>B00004SB92</td>\n",
       "      <td>4</td>\n",
       "      <td>2.0</td>\n",
       "    </tr>\n",
       "    <tr>\n",
       "      <td>64</td>\n",
       "      <td>1</td>\n",
       "      <td>B00002SWHH</td>\n",
       "      <td>3</td>\n",
       "      <td>3.0</td>\n",
       "    </tr>\n",
       "    <tr>\n",
       "      <td>6</td>\n",
       "      <td>1</td>\n",
       "      <td>B00000J3II</td>\n",
       "      <td>2</td>\n",
       "      <td>4.0</td>\n",
       "    </tr>\n",
       "    <tr>\n",
       "      <td>17</td>\n",
       "      <td>1</td>\n",
       "      <td>B00000JBIA</td>\n",
       "      <td>2</td>\n",
       "      <td>5.0</td>\n",
       "    </tr>\n",
       "    <tr>\n",
       "      <td>18</td>\n",
       "      <td>1</td>\n",
       "      <td>B00000JBJQ</td>\n",
       "      <td>2</td>\n",
       "      <td>6.0</td>\n",
       "    </tr>\n",
       "    <tr>\n",
       "      <td>24</td>\n",
       "      <td>1</td>\n",
       "      <td>B00000JHVP</td>\n",
       "      <td>2</td>\n",
       "      <td>7.0</td>\n",
       "    </tr>\n",
       "  </tbody>\n",
       "</table>\n",
       "</div>"
      ],
      "text/plain": [
       "     user_id   productId  score  rank\n",
       "94         1  B00004RC2D      5   1.0\n",
       "115        1  B00004SB92      4   2.0\n",
       "64         1  B00002SWHH      3   3.0\n",
       "6          1  B00000J3II      2   4.0\n",
       "17         1  B00000JBIA      2   5.0\n",
       "18         1  B00000JBJQ      2   6.0\n",
       "24         1  B00000JHVP      2   7.0"
      ]
     },
     "execution_count": 37,
     "metadata": {},
     "output_type": "execute_result"
    }
   ],
   "source": [
    "recommend(1)"
   ]
  },
  {
   "cell_type": "code",
   "execution_count": 38,
   "metadata": {},
   "outputs": [
    {
     "data": {
      "text/html": [
       "<div>\n",
       "<style scoped>\n",
       "    .dataframe tbody tr th:only-of-type {\n",
       "        vertical-align: middle;\n",
       "    }\n",
       "\n",
       "    .dataframe tbody tr th {\n",
       "        vertical-align: top;\n",
       "    }\n",
       "\n",
       "    .dataframe thead th {\n",
       "        text-align: right;\n",
       "    }\n",
       "</style>\n",
       "<table border=\"1\" class=\"dataframe\">\n",
       "  <thead>\n",
       "    <tr style=\"text-align: right;\">\n",
       "      <th></th>\n",
       "      <th>user_id</th>\n",
       "      <th>productId</th>\n",
       "      <th>score</th>\n",
       "      <th>rank</th>\n",
       "    </tr>\n",
       "  </thead>\n",
       "  <tbody>\n",
       "    <tr>\n",
       "      <td>94</td>\n",
       "      <td>3</td>\n",
       "      <td>B00004RC2D</td>\n",
       "      <td>5</td>\n",
       "      <td>1.0</td>\n",
       "    </tr>\n",
       "    <tr>\n",
       "      <td>115</td>\n",
       "      <td>3</td>\n",
       "      <td>B00004SB92</td>\n",
       "      <td>4</td>\n",
       "      <td>2.0</td>\n",
       "    </tr>\n",
       "    <tr>\n",
       "      <td>64</td>\n",
       "      <td>3</td>\n",
       "      <td>B00002SWHH</td>\n",
       "      <td>3</td>\n",
       "      <td>3.0</td>\n",
       "    </tr>\n",
       "    <tr>\n",
       "      <td>6</td>\n",
       "      <td>3</td>\n",
       "      <td>B00000J3II</td>\n",
       "      <td>2</td>\n",
       "      <td>4.0</td>\n",
       "    </tr>\n",
       "    <tr>\n",
       "      <td>17</td>\n",
       "      <td>3</td>\n",
       "      <td>B00000JBIA</td>\n",
       "      <td>2</td>\n",
       "      <td>5.0</td>\n",
       "    </tr>\n",
       "    <tr>\n",
       "      <td>18</td>\n",
       "      <td>3</td>\n",
       "      <td>B00000JBJQ</td>\n",
       "      <td>2</td>\n",
       "      <td>6.0</td>\n",
       "    </tr>\n",
       "    <tr>\n",
       "      <td>24</td>\n",
       "      <td>3</td>\n",
       "      <td>B00000JHVP</td>\n",
       "      <td>2</td>\n",
       "      <td>7.0</td>\n",
       "    </tr>\n",
       "  </tbody>\n",
       "</table>\n",
       "</div>"
      ],
      "text/plain": [
       "     user_id   productId  score  rank\n",
       "94         3  B00004RC2D      5   1.0\n",
       "115        3  B00004SB92      4   2.0\n",
       "64         3  B00002SWHH      3   3.0\n",
       "6          3  B00000J3II      2   4.0\n",
       "17         3  B00000JBIA      2   5.0\n",
       "18         3  B00000JBJQ      2   6.0\n",
       "24         3  B00000JHVP      2   7.0"
      ]
     },
     "execution_count": 38,
     "metadata": {},
     "output_type": "execute_result"
    }
   ],
   "source": [
    "recommend(3)"
   ]
  },
  {
   "cell_type": "markdown",
   "metadata": {},
   "source": [
    "### Popularity Recommendation Systems Summary"
   ]
  },
  {
   "cell_type": "markdown",
   "metadata": {},
   "source": [
    "#### Hence we have implemented Popularity recommendation system,where all users gets same products as recommended items no matter whoever the user is."
   ]
  },
  {
   "cell_type": "markdown",
   "metadata": {},
   "source": [
    "### Implementing collabrative Filtering Recommendation Model"
   ]
  },
  {
   "cell_type": "markdown",
   "metadata": {},
   "source": [
    "#### pivoting the matrix into required format"
   ]
  },
  {
   "cell_type": "code",
   "execution_count": 39,
   "metadata": {},
   "outputs": [],
   "source": [
    "df_prod_ratings=df_final.pivot(index='userId',columns='productId',values='rating').fillna(0)"
   ]
  },
  {
   "cell_type": "code",
   "execution_count": 40,
   "metadata": {},
   "outputs": [
    {
     "data": {
      "text/html": [
       "<div>\n",
       "<style scoped>\n",
       "    .dataframe tbody tr th:only-of-type {\n",
       "        vertical-align: middle;\n",
       "    }\n",
       "\n",
       "    .dataframe tbody tr th {\n",
       "        vertical-align: top;\n",
       "    }\n",
       "\n",
       "    .dataframe thead th {\n",
       "        text-align: right;\n",
       "    }\n",
       "</style>\n",
       "<table border=\"1\" class=\"dataframe\">\n",
       "  <thead>\n",
       "    <tr style=\"text-align: right;\">\n",
       "      <th>productId</th>\n",
       "      <th>1400599997</th>\n",
       "      <th>B00000DM9M</th>\n",
       "      <th>B00000J061</th>\n",
       "      <th>B00000J08C</th>\n",
       "      <th>B00000J0A2</th>\n",
       "      <th>B00000J0E8</th>\n",
       "      <th>B00000J1QZ</th>\n",
       "      <th>B00000J1US</th>\n",
       "      <th>B00000J3H5</th>\n",
       "      <th>B00000J3HB</th>\n",
       "      <th>...</th>\n",
       "      <th>B00004TDWY</th>\n",
       "      <th>B00004TE75</th>\n",
       "      <th>B00004TEN2</th>\n",
       "      <th>B00004TH2W</th>\n",
       "      <th>B00004TH2Y</th>\n",
       "      <th>B00004THCX</th>\n",
       "      <th>B00004THCY</th>\n",
       "      <th>B00004THCZ</th>\n",
       "      <th>B00004THDE</th>\n",
       "      <th>B00004THM6</th>\n",
       "    </tr>\n",
       "    <tr>\n",
       "      <th>userId</th>\n",
       "      <th></th>\n",
       "      <th></th>\n",
       "      <th></th>\n",
       "      <th></th>\n",
       "      <th></th>\n",
       "      <th></th>\n",
       "      <th></th>\n",
       "      <th></th>\n",
       "      <th></th>\n",
       "      <th></th>\n",
       "      <th></th>\n",
       "      <th></th>\n",
       "      <th></th>\n",
       "      <th></th>\n",
       "      <th></th>\n",
       "      <th></th>\n",
       "      <th></th>\n",
       "      <th></th>\n",
       "      <th></th>\n",
       "      <th></th>\n",
       "      <th></th>\n",
       "    </tr>\n",
       "  </thead>\n",
       "  <tbody>\n",
       "    <tr>\n",
       "      <td>A1ISUNUWG0K02V</td>\n",
       "      <td>0.0</td>\n",
       "      <td>0.0</td>\n",
       "      <td>0.0</td>\n",
       "      <td>0.0</td>\n",
       "      <td>0.0</td>\n",
       "      <td>0.0</td>\n",
       "      <td>3.0</td>\n",
       "      <td>0.0</td>\n",
       "      <td>5.0</td>\n",
       "      <td>5.0</td>\n",
       "      <td>...</td>\n",
       "      <td>0.0</td>\n",
       "      <td>0.0</td>\n",
       "      <td>0.0</td>\n",
       "      <td>0.0</td>\n",
       "      <td>0.0</td>\n",
       "      <td>0.0</td>\n",
       "      <td>0.0</td>\n",
       "      <td>0.0</td>\n",
       "      <td>0.0</td>\n",
       "      <td>0.0</td>\n",
       "    </tr>\n",
       "    <tr>\n",
       "      <td>A1MJMYLRTZ76ZX</td>\n",
       "      <td>0.0</td>\n",
       "      <td>0.0</td>\n",
       "      <td>0.0</td>\n",
       "      <td>0.0</td>\n",
       "      <td>0.0</td>\n",
       "      <td>0.0</td>\n",
       "      <td>0.0</td>\n",
       "      <td>0.0</td>\n",
       "      <td>0.0</td>\n",
       "      <td>0.0</td>\n",
       "      <td>...</td>\n",
       "      <td>0.0</td>\n",
       "      <td>0.0</td>\n",
       "      <td>0.0</td>\n",
       "      <td>0.0</td>\n",
       "      <td>0.0</td>\n",
       "      <td>0.0</td>\n",
       "      <td>0.0</td>\n",
       "      <td>0.0</td>\n",
       "      <td>0.0</td>\n",
       "      <td>0.0</td>\n",
       "    </tr>\n",
       "    <tr>\n",
       "      <td>A1NVD0TKNS1GT5</td>\n",
       "      <td>0.0</td>\n",
       "      <td>0.0</td>\n",
       "      <td>0.0</td>\n",
       "      <td>0.0</td>\n",
       "      <td>0.0</td>\n",
       "      <td>0.0</td>\n",
       "      <td>0.0</td>\n",
       "      <td>0.0</td>\n",
       "      <td>0.0</td>\n",
       "      <td>0.0</td>\n",
       "      <td>...</td>\n",
       "      <td>0.0</td>\n",
       "      <td>0.0</td>\n",
       "      <td>0.0</td>\n",
       "      <td>0.0</td>\n",
       "      <td>0.0</td>\n",
       "      <td>0.0</td>\n",
       "      <td>0.0</td>\n",
       "      <td>0.0</td>\n",
       "      <td>0.0</td>\n",
       "      <td>0.0</td>\n",
       "    </tr>\n",
       "    <tr>\n",
       "      <td>A1RPTVW5VEOSI</td>\n",
       "      <td>0.0</td>\n",
       "      <td>0.0</td>\n",
       "      <td>5.0</td>\n",
       "      <td>0.0</td>\n",
       "      <td>0.0</td>\n",
       "      <td>0.0</td>\n",
       "      <td>0.0</td>\n",
       "      <td>0.0</td>\n",
       "      <td>0.0</td>\n",
       "      <td>0.0</td>\n",
       "      <td>...</td>\n",
       "      <td>0.0</td>\n",
       "      <td>0.0</td>\n",
       "      <td>0.0</td>\n",
       "      <td>5.0</td>\n",
       "      <td>0.0</td>\n",
       "      <td>0.0</td>\n",
       "      <td>0.0</td>\n",
       "      <td>0.0</td>\n",
       "      <td>0.0</td>\n",
       "      <td>0.0</td>\n",
       "    </tr>\n",
       "    <tr>\n",
       "      <td>A231WM2Z2JL0U3</td>\n",
       "      <td>0.0</td>\n",
       "      <td>0.0</td>\n",
       "      <td>0.0</td>\n",
       "      <td>0.0</td>\n",
       "      <td>0.0</td>\n",
       "      <td>0.0</td>\n",
       "      <td>0.0</td>\n",
       "      <td>5.0</td>\n",
       "      <td>0.0</td>\n",
       "      <td>0.0</td>\n",
       "      <td>...</td>\n",
       "      <td>0.0</td>\n",
       "      <td>5.0</td>\n",
       "      <td>5.0</td>\n",
       "      <td>0.0</td>\n",
       "      <td>4.0</td>\n",
       "      <td>0.0</td>\n",
       "      <td>0.0</td>\n",
       "      <td>0.0</td>\n",
       "      <td>5.0</td>\n",
       "      <td>0.0</td>\n",
       "    </tr>\n",
       "  </tbody>\n",
       "</table>\n",
       "<p>5 rows × 186 columns</p>\n",
       "</div>"
      ],
      "text/plain": [
       "productId       1400599997  B00000DM9M  B00000J061  B00000J08C  B00000J0A2  \\\n",
       "userId                                                                       \n",
       "A1ISUNUWG0K02V         0.0         0.0         0.0         0.0         0.0   \n",
       "A1MJMYLRTZ76ZX         0.0         0.0         0.0         0.0         0.0   \n",
       "A1NVD0TKNS1GT5         0.0         0.0         0.0         0.0         0.0   \n",
       "A1RPTVW5VEOSI          0.0         0.0         5.0         0.0         0.0   \n",
       "A231WM2Z2JL0U3         0.0         0.0         0.0         0.0         0.0   \n",
       "\n",
       "productId       B00000J0E8  B00000J1QZ  B00000J1US  B00000J3H5  B00000J3HB  \\\n",
       "userId                                                                       \n",
       "A1ISUNUWG0K02V         0.0         3.0         0.0         5.0         5.0   \n",
       "A1MJMYLRTZ76ZX         0.0         0.0         0.0         0.0         0.0   \n",
       "A1NVD0TKNS1GT5         0.0         0.0         0.0         0.0         0.0   \n",
       "A1RPTVW5VEOSI          0.0         0.0         0.0         0.0         0.0   \n",
       "A231WM2Z2JL0U3         0.0         0.0         5.0         0.0         0.0   \n",
       "\n",
       "productId       ...  B00004TDWY  B00004TE75  B00004TEN2  B00004TH2W  \\\n",
       "userId          ...                                                   \n",
       "A1ISUNUWG0K02V  ...         0.0         0.0         0.0         0.0   \n",
       "A1MJMYLRTZ76ZX  ...         0.0         0.0         0.0         0.0   \n",
       "A1NVD0TKNS1GT5  ...         0.0         0.0         0.0         0.0   \n",
       "A1RPTVW5VEOSI   ...         0.0         0.0         0.0         5.0   \n",
       "A231WM2Z2JL0U3  ...         0.0         5.0         5.0         0.0   \n",
       "\n",
       "productId       B00004TH2Y  B00004THCX  B00004THCY  B00004THCZ  B00004THDE  \\\n",
       "userId                                                                       \n",
       "A1ISUNUWG0K02V         0.0         0.0         0.0         0.0         0.0   \n",
       "A1MJMYLRTZ76ZX         0.0         0.0         0.0         0.0         0.0   \n",
       "A1NVD0TKNS1GT5         0.0         0.0         0.0         0.0         0.0   \n",
       "A1RPTVW5VEOSI          0.0         0.0         0.0         0.0         0.0   \n",
       "A231WM2Z2JL0U3         4.0         0.0         0.0         0.0         5.0   \n",
       "\n",
       "productId       B00004THM6  \n",
       "userId                      \n",
       "A1ISUNUWG0K02V         0.0  \n",
       "A1MJMYLRTZ76ZX         0.0  \n",
       "A1NVD0TKNS1GT5         0.0  \n",
       "A1RPTVW5VEOSI          0.0  \n",
       "A231WM2Z2JL0U3         0.0  \n",
       "\n",
       "[5 rows x 186 columns]"
      ]
     },
     "execution_count": 40,
     "metadata": {},
     "output_type": "execute_result"
    }
   ],
   "source": [
    "df_prod_ratings.head()"
   ]
  },
  {
   "cell_type": "code",
   "execution_count": 41,
   "metadata": {},
   "outputs": [
    {
     "data": {
      "text/plain": [
       "Index(['userId', 'productId', 'rating'], dtype='object')"
      ]
     },
     "execution_count": 41,
     "metadata": {},
     "output_type": "execute_result"
    }
   ],
   "source": [
    "df_final.columns"
   ]
  },
  {
   "cell_type": "code",
   "execution_count": 42,
   "metadata": {},
   "outputs": [
    {
     "name": "stdout",
     "output_type": "stream",
     "text": [
      "(11, 186)\n"
     ]
    }
   ],
   "source": [
    "print(df_prod_ratings.shape)"
   ]
  },
  {
   "cell_type": "code",
   "execution_count": 43,
   "metadata": {},
   "outputs": [
    {
     "name": "stdout",
     "output_type": "stream",
     "text": [
      "given_no_of_ratigs : 219\n",
      "possible_ratings : 2046\n",
      "Density : 10.7 %\n"
     ]
    }
   ],
   "source": [
    "given_no_of_ratigs=np.count_nonzero(df_prod_ratings)\n",
    "possible_ratings=df_prod_ratings.shape[0]*df_prod_ratings.shape[1]\n",
    "density=(given_no_of_ratigs)/(possible_ratings)\n",
    "print('given_no_of_ratigs :',given_no_of_ratigs)\n",
    "print('possible_ratings :',possible_ratings)\n",
    "print('Density :',np.round(density,4)*100,'%')"
   ]
  },
  {
   "cell_type": "code",
   "execution_count": 44,
   "metadata": {},
   "outputs": [],
   "source": [
    "df_prod_ratings['user_index']=np.arange(0,df_prod_ratings.shape[0])\n",
    "df_prod_ratings.set_index(['user_index'],inplace=True)"
   ]
  },
  {
   "cell_type": "code",
   "execution_count": 45,
   "metadata": {},
   "outputs": [
    {
     "data": {
      "text/html": [
       "<div>\n",
       "<style scoped>\n",
       "    .dataframe tbody tr th:only-of-type {\n",
       "        vertical-align: middle;\n",
       "    }\n",
       "\n",
       "    .dataframe tbody tr th {\n",
       "        vertical-align: top;\n",
       "    }\n",
       "\n",
       "    .dataframe thead th {\n",
       "        text-align: right;\n",
       "    }\n",
       "</style>\n",
       "<table border=\"1\" class=\"dataframe\">\n",
       "  <thead>\n",
       "    <tr style=\"text-align: right;\">\n",
       "      <th>productId</th>\n",
       "      <th>1400599997</th>\n",
       "      <th>B00000DM9M</th>\n",
       "      <th>B00000J061</th>\n",
       "      <th>B00000J08C</th>\n",
       "      <th>B00000J0A2</th>\n",
       "      <th>B00000J0E8</th>\n",
       "      <th>B00000J1QZ</th>\n",
       "      <th>B00000J1US</th>\n",
       "      <th>B00000J3H5</th>\n",
       "      <th>B00000J3HB</th>\n",
       "      <th>...</th>\n",
       "      <th>B00004TDWY</th>\n",
       "      <th>B00004TE75</th>\n",
       "      <th>B00004TEN2</th>\n",
       "      <th>B00004TH2W</th>\n",
       "      <th>B00004TH2Y</th>\n",
       "      <th>B00004THCX</th>\n",
       "      <th>B00004THCY</th>\n",
       "      <th>B00004THCZ</th>\n",
       "      <th>B00004THDE</th>\n",
       "      <th>B00004THM6</th>\n",
       "    </tr>\n",
       "    <tr>\n",
       "      <th>user_index</th>\n",
       "      <th></th>\n",
       "      <th></th>\n",
       "      <th></th>\n",
       "      <th></th>\n",
       "      <th></th>\n",
       "      <th></th>\n",
       "      <th></th>\n",
       "      <th></th>\n",
       "      <th></th>\n",
       "      <th></th>\n",
       "      <th></th>\n",
       "      <th></th>\n",
       "      <th></th>\n",
       "      <th></th>\n",
       "      <th></th>\n",
       "      <th></th>\n",
       "      <th></th>\n",
       "      <th></th>\n",
       "      <th></th>\n",
       "      <th></th>\n",
       "      <th></th>\n",
       "    </tr>\n",
       "  </thead>\n",
       "  <tbody>\n",
       "    <tr>\n",
       "      <td>0</td>\n",
       "      <td>0.0</td>\n",
       "      <td>0.0</td>\n",
       "      <td>0.0</td>\n",
       "      <td>0.0</td>\n",
       "      <td>0.0</td>\n",
       "      <td>0.0</td>\n",
       "      <td>3.0</td>\n",
       "      <td>0.0</td>\n",
       "      <td>5.0</td>\n",
       "      <td>5.0</td>\n",
       "      <td>...</td>\n",
       "      <td>0.0</td>\n",
       "      <td>0.0</td>\n",
       "      <td>0.0</td>\n",
       "      <td>0.0</td>\n",
       "      <td>0.0</td>\n",
       "      <td>0.0</td>\n",
       "      <td>0.0</td>\n",
       "      <td>0.0</td>\n",
       "      <td>0.0</td>\n",
       "      <td>0.0</td>\n",
       "    </tr>\n",
       "    <tr>\n",
       "      <td>1</td>\n",
       "      <td>0.0</td>\n",
       "      <td>0.0</td>\n",
       "      <td>0.0</td>\n",
       "      <td>0.0</td>\n",
       "      <td>0.0</td>\n",
       "      <td>0.0</td>\n",
       "      <td>0.0</td>\n",
       "      <td>0.0</td>\n",
       "      <td>0.0</td>\n",
       "      <td>0.0</td>\n",
       "      <td>...</td>\n",
       "      <td>0.0</td>\n",
       "      <td>0.0</td>\n",
       "      <td>0.0</td>\n",
       "      <td>0.0</td>\n",
       "      <td>0.0</td>\n",
       "      <td>0.0</td>\n",
       "      <td>0.0</td>\n",
       "      <td>0.0</td>\n",
       "      <td>0.0</td>\n",
       "      <td>0.0</td>\n",
       "    </tr>\n",
       "    <tr>\n",
       "      <td>2</td>\n",
       "      <td>0.0</td>\n",
       "      <td>0.0</td>\n",
       "      <td>0.0</td>\n",
       "      <td>0.0</td>\n",
       "      <td>0.0</td>\n",
       "      <td>0.0</td>\n",
       "      <td>0.0</td>\n",
       "      <td>0.0</td>\n",
       "      <td>0.0</td>\n",
       "      <td>0.0</td>\n",
       "      <td>...</td>\n",
       "      <td>0.0</td>\n",
       "      <td>0.0</td>\n",
       "      <td>0.0</td>\n",
       "      <td>0.0</td>\n",
       "      <td>0.0</td>\n",
       "      <td>0.0</td>\n",
       "      <td>0.0</td>\n",
       "      <td>0.0</td>\n",
       "      <td>0.0</td>\n",
       "      <td>0.0</td>\n",
       "    </tr>\n",
       "    <tr>\n",
       "      <td>3</td>\n",
       "      <td>0.0</td>\n",
       "      <td>0.0</td>\n",
       "      <td>5.0</td>\n",
       "      <td>0.0</td>\n",
       "      <td>0.0</td>\n",
       "      <td>0.0</td>\n",
       "      <td>0.0</td>\n",
       "      <td>0.0</td>\n",
       "      <td>0.0</td>\n",
       "      <td>0.0</td>\n",
       "      <td>...</td>\n",
       "      <td>0.0</td>\n",
       "      <td>0.0</td>\n",
       "      <td>0.0</td>\n",
       "      <td>5.0</td>\n",
       "      <td>0.0</td>\n",
       "      <td>0.0</td>\n",
       "      <td>0.0</td>\n",
       "      <td>0.0</td>\n",
       "      <td>0.0</td>\n",
       "      <td>0.0</td>\n",
       "    </tr>\n",
       "    <tr>\n",
       "      <td>4</td>\n",
       "      <td>0.0</td>\n",
       "      <td>0.0</td>\n",
       "      <td>0.0</td>\n",
       "      <td>0.0</td>\n",
       "      <td>0.0</td>\n",
       "      <td>0.0</td>\n",
       "      <td>0.0</td>\n",
       "      <td>5.0</td>\n",
       "      <td>0.0</td>\n",
       "      <td>0.0</td>\n",
       "      <td>...</td>\n",
       "      <td>0.0</td>\n",
       "      <td>5.0</td>\n",
       "      <td>5.0</td>\n",
       "      <td>0.0</td>\n",
       "      <td>4.0</td>\n",
       "      <td>0.0</td>\n",
       "      <td>0.0</td>\n",
       "      <td>0.0</td>\n",
       "      <td>5.0</td>\n",
       "      <td>0.0</td>\n",
       "    </tr>\n",
       "  </tbody>\n",
       "</table>\n",
       "<p>5 rows × 186 columns</p>\n",
       "</div>"
      ],
      "text/plain": [
       "productId   1400599997  B00000DM9M  B00000J061  B00000J08C  B00000J0A2  \\\n",
       "user_index                                                               \n",
       "0                  0.0         0.0         0.0         0.0         0.0   \n",
       "1                  0.0         0.0         0.0         0.0         0.0   \n",
       "2                  0.0         0.0         0.0         0.0         0.0   \n",
       "3                  0.0         0.0         5.0         0.0         0.0   \n",
       "4                  0.0         0.0         0.0         0.0         0.0   \n",
       "\n",
       "productId   B00000J0E8  B00000J1QZ  B00000J1US  B00000J3H5  B00000J3HB  ...  \\\n",
       "user_index                                                              ...   \n",
       "0                  0.0         3.0         0.0         5.0         5.0  ...   \n",
       "1                  0.0         0.0         0.0         0.0         0.0  ...   \n",
       "2                  0.0         0.0         0.0         0.0         0.0  ...   \n",
       "3                  0.0         0.0         0.0         0.0         0.0  ...   \n",
       "4                  0.0         0.0         5.0         0.0         0.0  ...   \n",
       "\n",
       "productId   B00004TDWY  B00004TE75  B00004TEN2  B00004TH2W  B00004TH2Y  \\\n",
       "user_index                                                               \n",
       "0                  0.0         0.0         0.0         0.0         0.0   \n",
       "1                  0.0         0.0         0.0         0.0         0.0   \n",
       "2                  0.0         0.0         0.0         0.0         0.0   \n",
       "3                  0.0         0.0         0.0         5.0         0.0   \n",
       "4                  0.0         5.0         5.0         0.0         4.0   \n",
       "\n",
       "productId   B00004THCX  B00004THCY  B00004THCZ  B00004THDE  B00004THM6  \n",
       "user_index                                                              \n",
       "0                  0.0         0.0         0.0         0.0         0.0  \n",
       "1                  0.0         0.0         0.0         0.0         0.0  \n",
       "2                  0.0         0.0         0.0         0.0         0.0  \n",
       "3                  0.0         0.0         0.0         0.0         0.0  \n",
       "4                  0.0         0.0         0.0         5.0         0.0  \n",
       "\n",
       "[5 rows x 186 columns]"
      ]
     },
     "execution_count": 45,
     "metadata": {},
     "output_type": "execute_result"
    }
   ],
   "source": [
    "df_prod_ratings.head()"
   ]
  },
  {
   "cell_type": "markdown",
   "metadata": {},
   "source": [
    "### Using SVD ( single value decomposition )"
   ]
  },
  {
   "cell_type": "code",
   "execution_count": 46,
   "metadata": {},
   "outputs": [],
   "source": [
    "u,sigma,vT=svds(df_prod_ratings,k=10)"
   ]
  },
  {
   "cell_type": "code",
   "execution_count": 47,
   "metadata": {},
   "outputs": [],
   "source": [
    "sigma=np.diag(sigma)"
   ]
  },
  {
   "cell_type": "code",
   "execution_count": 48,
   "metadata": {},
   "outputs": [],
   "source": [
    "all_user_predicted_ratings=np.dot(np.dot(u,sigma),vT)"
   ]
  },
  {
   "cell_type": "code",
   "execution_count": 49,
   "metadata": {},
   "outputs": [],
   "source": [
    "pred_df=pd.DataFrame(all_user_predicted_ratings,columns=df_prod_ratings.columns)"
   ]
  },
  {
   "cell_type": "code",
   "execution_count": 50,
   "metadata": {},
   "outputs": [
    {
     "data": {
      "text/html": [
       "<div>\n",
       "<style scoped>\n",
       "    .dataframe tbody tr th:only-of-type {\n",
       "        vertical-align: middle;\n",
       "    }\n",
       "\n",
       "    .dataframe tbody tr th {\n",
       "        vertical-align: top;\n",
       "    }\n",
       "\n",
       "    .dataframe thead th {\n",
       "        text-align: right;\n",
       "    }\n",
       "</style>\n",
       "<table border=\"1\" class=\"dataframe\">\n",
       "  <thead>\n",
       "    <tr style=\"text-align: right;\">\n",
       "      <th>productId</th>\n",
       "      <th>1400599997</th>\n",
       "      <th>B00000DM9M</th>\n",
       "      <th>B00000J061</th>\n",
       "      <th>B00000J08C</th>\n",
       "      <th>B00000J0A2</th>\n",
       "      <th>B00000J0E8</th>\n",
       "      <th>B00000J1QZ</th>\n",
       "      <th>B00000J1US</th>\n",
       "      <th>B00000J3H5</th>\n",
       "      <th>B00000J3HB</th>\n",
       "      <th>...</th>\n",
       "      <th>B00004TDWY</th>\n",
       "      <th>B00004TE75</th>\n",
       "      <th>B00004TEN2</th>\n",
       "      <th>B00004TH2W</th>\n",
       "      <th>B00004TH2Y</th>\n",
       "      <th>B00004THCX</th>\n",
       "      <th>B00004THCY</th>\n",
       "      <th>B00004THCZ</th>\n",
       "      <th>B00004THDE</th>\n",
       "      <th>B00004THM6</th>\n",
       "    </tr>\n",
       "  </thead>\n",
       "  <tbody>\n",
       "    <tr>\n",
       "      <td>0</td>\n",
       "      <td>-0.005077</td>\n",
       "      <td>-0.010023</td>\n",
       "      <td>0.219864</td>\n",
       "      <td>-0.010023</td>\n",
       "      <td>-0.020310</td>\n",
       "      <td>-0.006562</td>\n",
       "      <td>2.962929</td>\n",
       "      <td>0.026594</td>\n",
       "      <td>4.938216</td>\n",
       "      <td>4.938216</td>\n",
       "      <td>...</td>\n",
       "      <td>-0.025387</td>\n",
       "      <td>0.026594</td>\n",
       "      <td>0.026594</td>\n",
       "      <td>0.219864</td>\n",
       "      <td>0.021275</td>\n",
       "      <td>-0.008018</td>\n",
       "      <td>-0.006014</td>\n",
       "      <td>-0.008018</td>\n",
       "      <td>0.026594</td>\n",
       "      <td>-0.008018</td>\n",
       "    </tr>\n",
       "    <tr>\n",
       "      <td>1</td>\n",
       "      <td>-0.000261</td>\n",
       "      <td>-0.000515</td>\n",
       "      <td>0.011300</td>\n",
       "      <td>-0.000515</td>\n",
       "      <td>-0.001044</td>\n",
       "      <td>-0.000337</td>\n",
       "      <td>-0.001905</td>\n",
       "      <td>0.001367</td>\n",
       "      <td>-0.003176</td>\n",
       "      <td>-0.003176</td>\n",
       "      <td>...</td>\n",
       "      <td>-0.001305</td>\n",
       "      <td>0.001367</td>\n",
       "      <td>0.001367</td>\n",
       "      <td>0.011300</td>\n",
       "      <td>0.001093</td>\n",
       "      <td>-0.000412</td>\n",
       "      <td>-0.000309</td>\n",
       "      <td>-0.000412</td>\n",
       "      <td>0.001367</td>\n",
       "      <td>-0.000412</td>\n",
       "    </tr>\n",
       "    <tr>\n",
       "      <td>2</td>\n",
       "      <td>-0.016300</td>\n",
       "      <td>-0.032177</td>\n",
       "      <td>0.705839</td>\n",
       "      <td>-0.032177</td>\n",
       "      <td>-0.065201</td>\n",
       "      <td>-0.021066</td>\n",
       "      <td>-0.119009</td>\n",
       "      <td>0.085374</td>\n",
       "      <td>-0.198349</td>\n",
       "      <td>-0.198349</td>\n",
       "      <td>...</td>\n",
       "      <td>-0.081502</td>\n",
       "      <td>0.085374</td>\n",
       "      <td>0.085374</td>\n",
       "      <td>0.705839</td>\n",
       "      <td>0.068299</td>\n",
       "      <td>-0.025742</td>\n",
       "      <td>-0.019306</td>\n",
       "      <td>-0.025742</td>\n",
       "      <td>0.085374</td>\n",
       "      <td>-0.025742</td>\n",
       "    </tr>\n",
       "    <tr>\n",
       "      <td>3</td>\n",
       "      <td>0.018068</td>\n",
       "      <td>0.035667</td>\n",
       "      <td>4.217599</td>\n",
       "      <td>0.035667</td>\n",
       "      <td>0.072274</td>\n",
       "      <td>0.023351</td>\n",
       "      <td>0.131918</td>\n",
       "      <td>-0.094635</td>\n",
       "      <td>0.219864</td>\n",
       "      <td>0.219864</td>\n",
       "      <td>...</td>\n",
       "      <td>0.090342</td>\n",
       "      <td>-0.094635</td>\n",
       "      <td>-0.094635</td>\n",
       "      <td>4.217599</td>\n",
       "      <td>-0.075708</td>\n",
       "      <td>0.028534</td>\n",
       "      <td>0.021400</td>\n",
       "      <td>0.028534</td>\n",
       "      <td>-0.094635</td>\n",
       "      <td>0.028534</td>\n",
       "    </tr>\n",
       "    <tr>\n",
       "      <td>4</td>\n",
       "      <td>0.002185</td>\n",
       "      <td>0.004314</td>\n",
       "      <td>-0.094635</td>\n",
       "      <td>0.004314</td>\n",
       "      <td>0.008742</td>\n",
       "      <td>0.002824</td>\n",
       "      <td>0.015956</td>\n",
       "      <td>4.988553</td>\n",
       "      <td>0.026594</td>\n",
       "      <td>0.026594</td>\n",
       "      <td>...</td>\n",
       "      <td>0.010927</td>\n",
       "      <td>4.988553</td>\n",
       "      <td>4.988553</td>\n",
       "      <td>-0.094635</td>\n",
       "      <td>3.990843</td>\n",
       "      <td>0.003451</td>\n",
       "      <td>0.002588</td>\n",
       "      <td>0.003451</td>\n",
       "      <td>4.988553</td>\n",
       "      <td>0.003451</td>\n",
       "    </tr>\n",
       "  </tbody>\n",
       "</table>\n",
       "<p>5 rows × 186 columns</p>\n",
       "</div>"
      ],
      "text/plain": [
       "productId  1400599997  B00000DM9M  B00000J061  B00000J08C  B00000J0A2  \\\n",
       "0           -0.005077   -0.010023    0.219864   -0.010023   -0.020310   \n",
       "1           -0.000261   -0.000515    0.011300   -0.000515   -0.001044   \n",
       "2           -0.016300   -0.032177    0.705839   -0.032177   -0.065201   \n",
       "3            0.018068    0.035667    4.217599    0.035667    0.072274   \n",
       "4            0.002185    0.004314   -0.094635    0.004314    0.008742   \n",
       "\n",
       "productId  B00000J0E8  B00000J1QZ  B00000J1US  B00000J3H5  B00000J3HB  ...  \\\n",
       "0           -0.006562    2.962929    0.026594    4.938216    4.938216  ...   \n",
       "1           -0.000337   -0.001905    0.001367   -0.003176   -0.003176  ...   \n",
       "2           -0.021066   -0.119009    0.085374   -0.198349   -0.198349  ...   \n",
       "3            0.023351    0.131918   -0.094635    0.219864    0.219864  ...   \n",
       "4            0.002824    0.015956    4.988553    0.026594    0.026594  ...   \n",
       "\n",
       "productId  B00004TDWY  B00004TE75  B00004TEN2  B00004TH2W  B00004TH2Y  \\\n",
       "0           -0.025387    0.026594    0.026594    0.219864    0.021275   \n",
       "1           -0.001305    0.001367    0.001367    0.011300    0.001093   \n",
       "2           -0.081502    0.085374    0.085374    0.705839    0.068299   \n",
       "3            0.090342   -0.094635   -0.094635    4.217599   -0.075708   \n",
       "4            0.010927    4.988553    4.988553   -0.094635    3.990843   \n",
       "\n",
       "productId  B00004THCX  B00004THCY  B00004THCZ  B00004THDE  B00004THM6  \n",
       "0           -0.008018   -0.006014   -0.008018    0.026594   -0.008018  \n",
       "1           -0.000412   -0.000309   -0.000412    0.001367   -0.000412  \n",
       "2           -0.025742   -0.019306   -0.025742    0.085374   -0.025742  \n",
       "3            0.028534    0.021400    0.028534   -0.094635    0.028534  \n",
       "4            0.003451    0.002588    0.003451    4.988553    0.003451  \n",
       "\n",
       "[5 rows x 186 columns]"
      ]
     },
     "execution_count": 50,
     "metadata": {},
     "output_type": "execute_result"
    }
   ],
   "source": [
    "pred_df.head()"
   ]
  },
  {
   "cell_type": "code",
   "execution_count": 51,
   "metadata": {},
   "outputs": [],
   "source": [
    "def recommendation(userID,df_prod_ratings,pred_df,recommendation_count):\n",
    "    user_idx=userID-1\n",
    "    sorted_user_ratings=df_prod_ratings.iloc[user_idx].sort_values(ascending=False)\n",
    "    sorted_user_predictions=pred_df.iloc[user_idx].sort_values(ascending=False)\n",
    "    temp=pd.concat([sorted_user_ratings,sorted_user_predictions],axis=1)\n",
    "    temp.index.name='Recommended Items'\n",
    "    temp.columns=['user_ratings','user_predictions']\n",
    "    temp=temp.loc[temp.user_ratings==0]\n",
    "    temp=temp.sort_values('user_predictions',ascending=False)\n",
    "    print('\\n Below are the recommended Items for the user :{}'.format(userID))\n",
    "    print(temp.head(recommendation_count))"
   ]
  },
  {
   "cell_type": "markdown",
   "metadata": {},
   "source": [
    "#### checking recommendations for given users"
   ]
  },
  {
   "cell_type": "code",
   "execution_count": 52,
   "metadata": {
    "scrolled": true
   },
   "outputs": [
    {
     "name": "stdout",
     "output_type": "stream",
     "text": [
      "\n",
      " Below are the recommended Items for the user :5\n",
      "                   user_ratings  user_predictions\n",
      "Recommended Items                                \n",
      "B00004T1WX                  0.0          0.184667\n",
      "B00000J4ER                  0.0          0.184667\n",
      "B00001P4XA                  0.0          0.184667\n",
      "B00004T1WZ                  0.0          0.184667\n",
      "B00000JYLO                  0.0          0.184667\n"
     ]
    }
   ],
   "source": [
    "userID=5\n",
    "recommendation_count=5\n",
    "recommendation(userID,df_prod_ratings,pred_df,recommendation_count)"
   ]
  },
  {
   "cell_type": "code",
   "execution_count": 53,
   "metadata": {
    "scrolled": true
   },
   "outputs": [
    {
     "name": "stdout",
     "output_type": "stream",
     "text": [
      "\n",
      " Below are the recommended Items for the user :8\n",
      "                   user_ratings  user_predictions\n",
      "Recommended Items                                \n",
      "B00000J061                  0.0          1.526746\n",
      "B00003WGP5                  0.0          1.526746\n",
      "B00004TH2W                  0.0          1.526746\n",
      "B00004RERZ                  0.0          1.526746\n",
      "B00004RIPE                  0.0          1.526746\n"
     ]
    }
   ],
   "source": [
    "userID=8\n",
    "recommendation_count=5\n",
    "recommendation(userID,df_prod_ratings,pred_df,recommendation_count)"
   ]
  },
  {
   "cell_type": "markdown",
   "metadata": {},
   "source": [
    "### Collaborative Recommended Systems Summary"
   ]
  },
  {
   "cell_type": "markdown",
   "metadata": {},
   "source": [
    "#### Thus we have implemented User specific recommendations systems based on users past purchase history."
   ]
  },
  {
   "cell_type": "markdown",
   "metadata": {},
   "source": [
    "### Evaluating the prediction using RMSE metric"
   ]
  },
  {
   "cell_type": "code",
   "execution_count": 54,
   "metadata": {},
   "outputs": [
    {
     "data": {
      "text/plain": [
       "productId\n",
       "1400599997    0.090909\n",
       "B00000DM9M    0.454545\n",
       "B00000J061    0.454545\n",
       "B00000J08C    0.454545\n",
       "B00000J0A2    0.363636\n",
       "dtype: float64"
      ]
     },
     "execution_count": 54,
     "metadata": {},
     "output_type": "execute_result"
    }
   ],
   "source": [
    "df_prod_ratings.mean().head()"
   ]
  },
  {
   "cell_type": "code",
   "execution_count": 55,
   "metadata": {},
   "outputs": [
    {
     "data": {
      "text/plain": [
       "productId\n",
       "1400599997    0.088513\n",
       "B00000DM9M    0.449816\n",
       "B00000J061    0.558292\n",
       "B00000J08C    0.449816\n",
       "B00000J0A2    0.354053\n",
       "dtype: float64"
      ]
     },
     "execution_count": 55,
     "metadata": {},
     "output_type": "execute_result"
    }
   ],
   "source": [
    "pred_df.mean().head()"
   ]
  },
  {
   "cell_type": "code",
   "execution_count": 56,
   "metadata": {
    "scrolled": true
   },
   "outputs": [
    {
     "data": {
      "text/html": [
       "<div>\n",
       "<style scoped>\n",
       "    .dataframe tbody tr th:only-of-type {\n",
       "        vertical-align: middle;\n",
       "    }\n",
       "\n",
       "    .dataframe tbody tr th {\n",
       "        vertical-align: top;\n",
       "    }\n",
       "\n",
       "    .dataframe thead th {\n",
       "        text-align: right;\n",
       "    }\n",
       "</style>\n",
       "<table border=\"1\" class=\"dataframe\">\n",
       "  <thead>\n",
       "    <tr style=\"text-align: right;\">\n",
       "      <th></th>\n",
       "      <th>Avg_actual_ratings</th>\n",
       "      <th>Avg_predicted_ratings</th>\n",
       "      <th>item_index</th>\n",
       "    </tr>\n",
       "    <tr>\n",
       "      <th>productId</th>\n",
       "      <th></th>\n",
       "      <th></th>\n",
       "      <th></th>\n",
       "    </tr>\n",
       "  </thead>\n",
       "  <tbody>\n",
       "    <tr>\n",
       "      <td>1400599997</td>\n",
       "      <td>0.090909</td>\n",
       "      <td>0.088513</td>\n",
       "      <td>0</td>\n",
       "    </tr>\n",
       "    <tr>\n",
       "      <td>B00000DM9M</td>\n",
       "      <td>0.454545</td>\n",
       "      <td>0.449816</td>\n",
       "      <td>1</td>\n",
       "    </tr>\n",
       "    <tr>\n",
       "      <td>B00000J061</td>\n",
       "      <td>0.454545</td>\n",
       "      <td>0.558292</td>\n",
       "      <td>2</td>\n",
       "    </tr>\n",
       "    <tr>\n",
       "      <td>B00000J08C</td>\n",
       "      <td>0.454545</td>\n",
       "      <td>0.449816</td>\n",
       "      <td>3</td>\n",
       "    </tr>\n",
       "    <tr>\n",
       "      <td>B00000J0A2</td>\n",
       "      <td>0.363636</td>\n",
       "      <td>0.354053</td>\n",
       "      <td>4</td>\n",
       "    </tr>\n",
       "  </tbody>\n",
       "</table>\n",
       "</div>"
      ],
      "text/plain": [
       "            Avg_actual_ratings  Avg_predicted_ratings  item_index\n",
       "productId                                                        \n",
       "1400599997            0.090909               0.088513           0\n",
       "B00000DM9M            0.454545               0.449816           1\n",
       "B00000J061            0.454545               0.558292           2\n",
       "B00000J08C            0.454545               0.449816           3\n",
       "B00000J0A2            0.363636               0.354053           4"
      ]
     },
     "execution_count": 56,
     "metadata": {},
     "output_type": "execute_result"
    }
   ],
   "source": [
    "rmse_df=pd.concat([df_prod_ratings.mean(),pred_df.mean()],axis=1)\n",
    "rmse_df.columns=['Avg_actual_ratings','Avg_predicted_ratings']\n",
    "rmse_df['item_index']=np.arange(0,rmse_df.shape[0],1)\n",
    "rmse_df.head()"
   ]
  },
  {
   "cell_type": "code",
   "execution_count": 57,
   "metadata": {},
   "outputs": [],
   "source": [
    "RMSE=round(((rmse_df.Avg_actual_ratings-rmse_df['Avg_predicted_ratings'])**2).mean()**0.5,5)"
   ]
  },
  {
   "cell_type": "code",
   "execution_count": 58,
   "metadata": {},
   "outputs": [
    {
     "name": "stdout",
     "output_type": "stream",
     "text": [
      "RMSE : 0.05854\n",
      "MAE  : 0.034857051552597516\n",
      "MSE  : 0.0034271344119146943\n"
     ]
    }
   ],
   "source": [
    "print('RMSE :',RMSE)\n",
    "print('MAE  :',mean_absolute_error(rmse_df['Avg_actual_ratings'],rmse_df['Avg_predicted_ratings']))\n",
    "print('MSE  :',mean_squared_error(rmse_df['Avg_actual_ratings'],rmse_df['Avg_predicted_ratings']))"
   ]
  },
  {
   "cell_type": "markdown",
   "metadata": {},
   "source": [
    "### Conclusion"
   ]
  },
  {
   "cell_type": "markdown",
   "metadata": {},
   "source": [
    "- Hence we have implemented both popularity based recommended system and user collabrative recommended systems.\n",
    "- Out of which we could use Popularity based model when we don't have enough user product purchase history.\n",
    "- Once we got enough product purchase history data,Its good we use collabrative Filtering Recommendations systems."
   ]
  }
 ],
 "metadata": {
  "kernelspec": {
   "display_name": "Python 3",
   "language": "python",
   "name": "python3"
  },
  "language_info": {
   "codemirror_mode": {
    "name": "ipython",
    "version": 3
   },
   "file_extension": ".py",
   "mimetype": "text/x-python",
   "name": "python",
   "nbconvert_exporter": "python",
   "pygments_lexer": "ipython3",
   "version": "3.7.4"
  }
 },
 "nbformat": 4,
 "nbformat_minor": 2
}
